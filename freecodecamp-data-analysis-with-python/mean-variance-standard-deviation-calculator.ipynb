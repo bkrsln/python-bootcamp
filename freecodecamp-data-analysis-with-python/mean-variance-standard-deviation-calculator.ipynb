{
 "cells": [
  {
   "cell_type": "code",
   "execution_count": 1,
   "id": "6dde959f-fead-47b3-bf1c-9601def6529d",
   "metadata": {},
   "outputs": [],
   "source": [
    "import numpy as np"
   ]
  },
  {
   "cell_type": "code",
   "execution_count": 27,
   "id": "748ccebe-0e7e-4cdc-bf10-a0ba560786f1",
   "metadata": {},
   "outputs": [
    {
     "data": {
      "text/plain": [
       "matrix([[0, 1, 2],\n",
       "        [3, 4, 5],\n",
       "        [6, 7, 8]])"
      ]
     },
     "execution_count": 27,
     "metadata": {},
     "output_type": "execute_result"
    }
   ],
   "source": [
    "list = [0,1,2,3,4,5,6,7,8]\n",
    "\n",
    "np.matrix(list).reshape((3,3))"
   ]
  },
  {
   "cell_type": "code",
   "execution_count": 28,
   "id": "70b720fb-bc7f-4a4e-94be-6392c4d111f9",
   "metadata": {},
   "outputs": [
    {
     "data": {
      "text/plain": [
       "{'mean': [[3.0, 4.0, 5.0], [1.0, 4.0, 7.0], 4.0],\n",
       " 'variance': [[6.0, 6.0, 6.0],\n",
       "  [0.6666666666666666, 0.6666666666666666, 0.6666666666666666],\n",
       "  6.666666666666667],\n",
       " 'standard deviation': [[2.449489742783178,\n",
       "   2.449489742783178,\n",
       "   2.449489742783178],\n",
       "  [0.816496580927726, 0.816496580927726, 0.816496580927726],\n",
       "  2.581988897471611],\n",
       " 'max': [[6, 7, 8], [2, 5, 8], 8],\n",
       " 'min': [[0, 1, 2], [0, 3, 6], 0],\n",
       " 'sum': [[9, 12, 15], [3, 12, 21], 36]}"
      ]
     },
     "execution_count": 28,
     "metadata": {},
     "output_type": "execute_result"
    }
   ],
   "source": [
    "def calculate(list):\n",
    "    '''\n",
    "    A function that uses Numpy to output \n",
    "    the mean, variance, and standard deviation \n",
    "    of the rows, columns, and elements \n",
    "    in a 3 x 3 matrix.\n",
    "    '''\n",
    "    \n",
    "    if len(list)!=9:\n",
    "      raise ValueError('List must contain nine numbers.')\n",
    "    else:\n",
    "        x = np.array(list).reshape(3,3)\n",
    "    \n",
    "    calculations = {\n",
    "        \"mean\": [x.mean(axis=0).tolist(), x.mean(axis=1).tolist(), x.flatten().mean()],\n",
    "        \"variance\": [x.var(axis=0).tolist(), x.var(axis=1).tolist(), x.flatten().var()],\n",
    "        \"standard deviation\": [x.std(axis=0).tolist(), x.std(axis=1).tolist(), x.flatten().std()],\n",
    "        \"max\": [x.max(axis=0).tolist(), x.max(axis=1).tolist(), x.flatten().max()],\n",
    "        \"min\": [x.min(axis=0).tolist(), x.min(axis=1).tolist(), x.flatten().min()],\n",
    "        \"sum\": [x.sum(axis=0).tolist(), x.sum(axis=1).tolist(), x.flatten().sum()],\n",
    "    }\n",
    "    \n",
    "    return calculations\n",
    "\n",
    "calculate(list)"
   ]
  },
  {
   "cell_type": "code",
   "execution_count": null,
   "id": "3a0ed86e-ac5d-445b-b438-a3bcece51c87",
   "metadata": {},
   "outputs": [],
   "source": []
  }
 ],
 "metadata": {
  "kernelspec": {
   "display_name": "Python 3 (ipykernel)",
   "language": "python",
   "name": "python3"
  },
  "language_info": {
   "codemirror_mode": {
    "name": "ipython",
    "version": 3
   },
   "file_extension": ".py",
   "mimetype": "text/x-python",
   "name": "python",
   "nbconvert_exporter": "python",
   "pygments_lexer": "ipython3",
   "version": "3.8.12"
  }
 },
 "nbformat": 4,
 "nbformat_minor": 5
}
