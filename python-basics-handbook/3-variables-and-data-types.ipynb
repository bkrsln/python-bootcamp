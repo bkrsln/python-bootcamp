{
 "cells": [
  {
   "cell_type": "markdown",
   "metadata": {},
   "source": [
    "# Değişkenler ve veri tipleri"
   ]
  },
  {
   "cell_type": "markdown",
   "metadata": {},
   "source": [
    "## Değişkenler"
   ]
  },
  {
   "cell_type": "markdown",
   "metadata": {},
   "source": [
    "Herhangi bir değeri bir değişkene atamak için = işareti kullanılır. Değişken isimlerinin ilk karakterleri bir harf veya alt çizgiden oluşmalı. Sayısal değerle başlayan değişken isimleri hata verir."
   ]
  },
  {
   "cell_type": "code",
   "execution_count": 1,
   "metadata": {},
   "outputs": [
    {
     "name": "stdout",
     "output_type": "stream",
     "text": [
      "3\n"
     ]
    }
   ],
   "source": [
    "degisken = 3\n",
    "print(degisken)"
   ]
  },
  {
   "cell_type": "markdown",
   "metadata": {},
   "source": [
    "---"
   ]
  },
  {
   "cell_type": "markdown",
   "metadata": {},
   "source": [
    "## Veri tipleri"
   ]
  },
  {
   "cell_type": "markdown",
   "metadata": {},
   "source": [
    "Python'da dört temel veri tipi var. Temel matematik hesaplamaları önceki bölümde vardı.\n",
    "\n",
    "- Integer *(Sayı)*\n",
    "- Float *(Ondalık sayı)*\n",
    "- Boolean *(True, False)*\n",
    "- String *(Karakter dizisi)*\n",
    "\n",
    "Ek olarak Boolean değerleri karşılaştırma imkanı da verir."
   ]
  },
  {
   "cell_type": "code",
   "execution_count": 2,
   "metadata": {},
   "outputs": [
    {
     "name": "stdout",
     "output_type": "stream",
     "text": [
      "True\n",
      "False\n",
      "False\n",
      "True\n",
      "True\n"
     ]
    }
   ],
   "source": [
    "print(1 == 1) # Eşit mi?\n",
    "print(1 < 1) # Küçük mü?\n",
    "print(1 > 1) # Büyük mü?\n",
    "print(1 >= 1) # Büyük eşit mi?\n",
    "print(1 <= 1) # Küçük eşit mi?"
   ]
  },
  {
   "cell_type": "markdown",
   "metadata": {},
   "source": [
    "### Karakter dizisi (string)"
   ]
  },
  {
   "cell_type": "markdown",
   "metadata": {},
   "source": [
    "Bir string ifadesi harflerden, sayılardan, boşluklardan ve diğer karakterlerden oluşabilir. Bu yüzden string işlemleri de diğer veri tiplerine göre çeşitli ve zengindir. Özellikleriyle küçük bir liste ve kümeyi andırır."
   ]
  },
  {
   "cell_type": "code",
   "execution_count": 3,
   "metadata": {},
   "outputs": [
    {
     "name": "stdout",
     "output_type": "stream",
     "text": [
      "Bu bir string değişkendir.\n"
     ]
    }
   ],
   "source": [
    "var = \"Bu bir string değişkendir.\" # Çift veya tek tırnak ile atanabilir.\n",
    "\n",
    "print(var)"
   ]
  },
  {
   "cell_type": "markdown",
   "metadata": {},
   "source": [
    "Matematik operatörlerinden + ve * ile string ifadelerinde işlemler yapılabilir."
   ]
  },
  {
   "cell_type": "code",
   "execution_count": 4,
   "metadata": {},
   "outputs": [
    {
     "name": "stdout",
     "output_type": "stream",
     "text": [
      "Bu bir string değişkendir.ekleme\n"
     ]
    }
   ],
   "source": [
    "print(var + \"ekleme\") # + ile string ifadeye karakter eklenebilir. Ama tür olarak string olabilir."
   ]
  },
  {
   "cell_type": "code",
   "execution_count": 5,
   "metadata": {},
   "outputs": [
    {
     "name": "stdout",
     "output_type": "stream",
     "text": [
      "Bu bir string değişkendir.23\n"
     ]
    }
   ],
   "source": [
    "print(var + \"23\") # Eklenecek karakter string olduğu için ekler.\n",
    "# print(var + 23) # Tip hatası verir."
   ]
  },
  {
   "cell_type": "code",
   "execution_count": 6,
   "metadata": {},
   "outputs": [
    {
     "name": "stdout",
     "output_type": "stream",
     "text": [
      "Bu bir string değişkendir.Bu bir string değişkendir.Bu bir string değişkendir.\n"
     ]
    }
   ],
   "source": [
    "print(var * 3) # String ifadeyi çoğaltır."
   ]
  },
  {
   "cell_type": "markdown",
   "metadata": {},
   "source": [
    "Dilimleme ile string ifadelerindeki karakterlere [] ile erişebiliriz. [start index:end index] şeklinde çalışır."
   ]
  },
  {
   "cell_type": "code",
   "execution_count": 7,
   "metadata": {},
   "outputs": [
    {
     "name": "stdout",
     "output_type": "stream",
     "text": [
      "ir s\n",
      "B\n",
      "Bu bir str\n",
      "r string değişkendir.\n"
     ]
    }
   ],
   "source": [
    "print(var[4:8])\n",
    "print(var[0]) # String ifadelerdeki ilk karakterin indexi 0'dır.\n",
    "print(var[:10])\n",
    "print(var[5:])"
   ]
  },
  {
   "cell_type": "markdown",
   "metadata": {},
   "source": [
    "### Karakter dizisi metotları"
   ]
  },
  {
   "cell_type": "code",
   "execution_count": 8,
   "metadata": {},
   "outputs": [
    {
     "name": "stdout",
     "output_type": "stream",
     "text": [
      "KARAKTER DIZILERINE ÖZEL IŞLEMLER \n",
      "karakter dizilerine özel işlemler \n",
      "karakter dizilerine özel işlemler\n",
      "False\n",
      "korokter dizilerine özel işlemler \n",
      "9\n",
      "Karakter dizilerine özel işlemler \n",
      "4\n"
     ]
    }
   ],
   "source": [
    "degisken = \"karakter dizilerine özel işlemler \"\n",
    "\n",
    "print(degisken.upper())\n",
    "print(degisken.lower())\n",
    "print(degisken.strip())\n",
    "print(degisken.isdigit())\n",
    "print(degisken.replace(\"a\", \"o\"))\n",
    "print(degisken.index(\"d\"))\n",
    "print(degisken.capitalize())\n",
    "print(degisken.count(\"i\"))\n",
    "\n",
    "# Metot isimleri anlaşılır olduğu için tek tek yorum eklemedim."
   ]
  },
  {
   "cell_type": "markdown",
   "metadata": {},
   "source": [
    "Daha fazla string metotu Python dokümantasyonunda bulunabilir."
   ]
  },
  {
   "cell_type": "markdown",
   "metadata": {},
   "source": [
    "### type() fonksiyonu"
   ]
  },
  {
   "cell_type": "markdown",
   "metadata": {},
   "source": [
    "Gömülü bir fonksiyon olan type() değerin tipini döndürür."
   ]
  },
  {
   "cell_type": "code",
   "execution_count": 9,
   "metadata": {},
   "outputs": [
    {
     "name": "stdout",
     "output_type": "stream",
     "text": [
      "<class 'str'>\n",
      "<class 'int'>\n",
      "<class 'float'>\n",
      "<class 'bool'>\n",
      "<class 'list'>\n",
      "<class 'tuple'>\n",
      "<class 'set'>\n",
      "<class 'dict'>\n"
     ]
    }
   ],
   "source": [
    "print(type(\"string\"))\n",
    "print(type(123))\n",
    "print(type(123.4))\n",
    "print(type(True))\n",
    "print(type([1,2,3,4]))\n",
    "print(type((1,2,3,4)))\n",
    "print(type({1,2,3,4}))\n",
    "print(type({\"key\": \"value\" }))\n",
    "\n",
    "# Temel veri tipleriyle birlikte burada diğer veri yapıları olan list, tuple, set ve dict de göründü. "
   ]
  },
  {
   "cell_type": "markdown",
   "metadata": {},
   "source": [
    "---"
   ]
  },
  {
   "cell_type": "markdown",
   "metadata": {},
   "source": [
    "## Tip dönüşümleri"
   ]
  },
  {
   "cell_type": "markdown",
   "metadata": {},
   "source": [
    "Değişkenleri bir arada yazdırabilmek için dönüştürmek gerekir."
   ]
  },
  {
   "cell_type": "code",
   "execution_count": 10,
   "metadata": {},
   "outputs": [
    {
     "name": "stdout",
     "output_type": "stream",
     "text": [
      "<class 'float'>\n",
      "<class 'float'>\n",
      "<class 'int'>\n",
      "<class 'str'>\n",
      "<class 'int'>\n",
      "<class 'str'>\n",
      "<class 'str'>\n",
      "<class 'int'>\n",
      "<class 'bool'>\n"
     ]
    }
   ],
   "source": [
    "print(type(float(4))) # int to float\n",
    "print(type(float(\"4.0\"))) # str to float\n",
    "print(type(int(4.0))) # float to int\n",
    "print(type(str(4))) # int to str\n",
    "print(type(int(\"4\"))) # str to int\n",
    "print(type(str(4.2))) # float to str\n",
    "print(type(str(4))) # int to str\n",
    "print(type(int(False))) # bool to int, 0 döndürür.\n",
    "print(type(bool(-1))) # int to bool. 0 hariç tüm sayısal değerler True döndürür, 0 False döndürür.\n",
    "# print(type(int(\"4.2\"))) # Sayısal olmayan str to int hata verir."
   ]
  }
 ],
 "metadata": {
  "hide_input": false,
  "kernelspec": {
   "display_name": "Python 3",
   "language": "python",
   "name": "python3"
  },
  "language_info": {
   "codemirror_mode": {
    "name": "ipython",
    "version": 3
   },
   "file_extension": ".py",
   "mimetype": "text/x-python",
   "name": "python",
   "nbconvert_exporter": "python",
   "pygments_lexer": "ipython3",
   "version": "3.7.4"
  },
  "toc": {
   "base_numbering": 1,
   "nav_menu": {},
   "number_sections": false,
   "sideBar": true,
   "skip_h1_title": false,
   "title_cell": "Table of Contents",
   "title_sidebar": "Contents",
   "toc_cell": false,
   "toc_position": {},
   "toc_section_display": true,
   "toc_window_display": true
  },
  "varInspector": {
   "cols": {
    "lenName": 16,
    "lenType": 16,
    "lenVar": 40
   },
   "kernels_config": {
    "python": {
     "delete_cmd_postfix": "",
     "delete_cmd_prefix": "del ",
     "library": "var_list.py",
     "varRefreshCmd": "print(var_dic_list())"
    },
    "r": {
     "delete_cmd_postfix": ") ",
     "delete_cmd_prefix": "rm(",
     "library": "var_list.r",
     "varRefreshCmd": "cat(var_dic_list()) "
    }
   },
   "types_to_exclude": [
    "module",
    "function",
    "builtin_function_or_method",
    "instance",
    "_Feature"
   ],
   "window_display": false
  }
 },
 "nbformat": 4,
 "nbformat_minor": 4
}
