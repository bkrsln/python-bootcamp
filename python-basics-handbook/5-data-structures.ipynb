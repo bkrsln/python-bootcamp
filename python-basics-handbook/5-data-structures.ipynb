{
 "cells": [
  {
   "cell_type": "markdown",
   "metadata": {},
   "source": [
    "# Veri yapıları"
   ]
  },
  {
   "cell_type": "markdown",
   "metadata": {},
   "source": [
    "- Değişkenlerin atanabildiği ve depolandığı yapılardır.\n",
    "- Indexleme 0 ile, negatif indexleme -1 ile başlar.\n",
    "- Veri yapılarındaki dilimleme `[start : end]` formatında yapılır."
   ]
  },
  {
   "cell_type": "markdown",
   "metadata": {},
   "source": [
    "**Özetle:**\n",
    "\n",
    "- List sıralıdır, değiştirilebilir. `[ ]`\n",
    "- Tuple sıralıdır, değiştirilemez. `( )`\n",
    "- Set sıralı değildir, değiştirilebilir. `{ }`\n",
    "- Dictionary sıralı değildir, değiştirilebilir. `{ key : value }`"
   ]
  },
  {
   "cell_type": "markdown",
   "metadata": {
    "ExecuteTime": {
     "end_time": "2020-04-18T09:30:40.706375Z",
     "start_time": "2020-04-18T09:30:40.701550Z"
    }
   },
   "source": [
    "## Indexleme ve dilimleme"
   ]
  },
  {
   "cell_type": "markdown",
   "metadata": {},
   "source": [
    "Veri yapılarındaki değerlerin konumlarına indexleme ile ulaşabiliriz. Dilimleme (slicing) ile de ne kadar değer alabileceğimizi belirleyebiliriz."
   ]
  },
  {
   "cell_type": "code",
   "execution_count": 6,
   "metadata": {
    "ExecuteTime": {
     "end_time": "2020-04-18T09:40:00.158119Z",
     "start_time": "2020-04-18T09:40:00.151033Z"
    }
   },
   "outputs": [
    {
     "name": "stdout",
     "output_type": "stream",
     "text": [
      "b\n",
      "ir str\n"
     ]
    }
   ],
   "source": [
    "# [] ile bir karakter dizisinin veya veri tipinin değerlerine ulaşılır.\n",
    "# [start index : end index] şeklinde kullanılır.\n",
    "# Indexlemenin ilk değeri 0'dır.\n",
    "\n",
    "degisken = \"Bu bir string ifade.\"\n",
    "\n",
    "deger = degisken[3] # Değişkenin indexine erişme.\n",
    "baska_deger = degisken[4:10] # Değişkenin istenilen değerlerine dilimleme ile erişme.\n",
    "\n",
    "print(deger)\n",
    "print(baska_deger)"
   ]
  },
  {
   "cell_type": "markdown",
   "metadata": {},
   "source": [
    "## Tuple (Demet)"
   ]
  },
  {
   "cell_type": "markdown",
   "metadata": {},
   "source": [
    "Farklı tipteki çeşitli değerleri tutabilir. Değerleri değiştirilemez.\n",
    "\n",
    "- Listelerden daha hızlıdır.\n",
    "- Değiştirilemez olduğu için veri korunur.\n",
    "- Sözlüklerde key olarak kullanılabilir."
   ]
  },
  {
   "cell_type": "code",
   "execution_count": 10,
   "metadata": {
    "ExecuteTime": {
     "end_time": "2020-04-18T09:50:16.765893Z",
     "start_time": "2020-04-18T09:50:16.758732Z"
    }
   },
   "outputs": [
    {
     "name": "stdout",
     "output_type": "stream",
     "text": [
      "<class 'tuple'>\n",
      "(1, 3, 4, 'a', 7.4)\n",
      "(1, 3, 4, 'a', 7.4, 1, 3, 4, 'a', 7.4)\n"
     ]
    }
   ],
   "source": [
    "# Bir tuple parantez () ile oluşturulur. \n",
    "\n",
    "demet = (1,3,4,\"a\",7.4)\n",
    "\n",
    "print(type(demet))\n",
    "print(demet)\n",
    "print(demet * 2) # Değerleri çoğalttı."
   ]
  },
  {
   "cell_type": "code",
   "execution_count": 12,
   "metadata": {
    "ExecuteTime": {
     "end_time": "2020-04-18T09:52:39.700747Z",
     "start_time": "2020-04-18T09:52:39.693492Z"
    }
   },
   "outputs": [
    {
     "name": "stdout",
     "output_type": "stream",
     "text": [
      "(4, 'a')\n"
     ]
    }
   ],
   "source": [
    "# Indexleme ile tuple değerlerine ulaşabiliriz.\n",
    "\n",
    "deger = demet[2:4]\n",
    "\n",
    "print(deger)"
   ]
  },
  {
   "cell_type": "markdown",
   "metadata": {
    "ExecuteTime": {
     "end_time": "2020-04-18T09:55:53.976022Z",
     "start_time": "2020-04-18T09:55:53.967247Z"
    }
   },
   "source": [
    "Tuple yapıları bir kez oluşturulduktan sonra değiştirilemez."
   ]
  },
  {
   "cell_type": "code",
   "execution_count": 13,
   "metadata": {
    "ExecuteTime": {
     "end_time": "2020-04-18T09:54:43.181040Z",
     "start_time": "2020-04-18T09:54:43.164261Z"
    },
    "scrolled": true
   },
   "outputs": [
    {
     "ename": "TypeError",
     "evalue": "'tuple' object does not support item assignment",
     "output_type": "error",
     "traceback": [
      "\u001b[0;31m---------------------------------------------------------------------------\u001b[0m",
      "\u001b[0;31mTypeError\u001b[0m                                 Traceback (most recent call last)",
      "\u001b[0;32m<ipython-input-13-78d01bd17be1>\u001b[0m in \u001b[0;36m<module>\u001b[0;34m\u001b[0m\n\u001b[1;32m      1\u001b[0m \u001b[0;31m# Tuple yapıları bir kez oluşturulduktan sonra değiştirilemez.\u001b[0m\u001b[0;34m\u001b[0m\u001b[0;34m\u001b[0m\u001b[0;34m\u001b[0m\u001b[0m\n\u001b[1;32m      2\u001b[0m \u001b[0;34m\u001b[0m\u001b[0m\n\u001b[0;32m----> 3\u001b[0;31m \u001b[0mdemet\u001b[0m\u001b[0;34m[\u001b[0m\u001b[0;36m2\u001b[0m\u001b[0;34m]\u001b[0m \u001b[0;34m=\u001b[0m \u001b[0;36m10\u001b[0m \u001b[0;31m# Hata verir.\u001b[0m\u001b[0;34m\u001b[0m\u001b[0;34m\u001b[0m\u001b[0m\n\u001b[0m",
      "\u001b[0;31mTypeError\u001b[0m: 'tuple' object does not support item assignment"
     ]
    }
   ],
   "source": [
    "demet[2] = 10 # Hata verir."
   ]
  },
  {
   "cell_type": "code",
   "execution_count": 24,
   "metadata": {
    "ExecuteTime": {
     "end_time": "2020-04-18T10:01:27.575266Z",
     "start_time": "2020-04-18T10:01:27.565196Z"
    }
   },
   "outputs": [
    {
     "data": {
      "text/plain": [
       "(18, 23, 1, 3, 5, 8, 9)"
      ]
     },
     "execution_count": 24,
     "metadata": {},
     "output_type": "execute_result"
    }
   ],
   "source": [
    "# Tuple objeleri birleştirilebilir. (Concatenating)\n",
    "\n",
    "demet1 = (18,23,1)\n",
    "demet2 = (3,5,8,9)\n",
    "\n",
    "demet1 + demet2"
   ]
  },
  {
   "cell_type": "code",
   "execution_count": 28,
   "metadata": {
    "ExecuteTime": {
     "end_time": "2020-04-18T10:02:52.036563Z",
     "start_time": "2020-04-18T10:02:52.026950Z"
    }
   },
   "outputs": [
    {
     "name": "stdout",
     "output_type": "stream",
     "text": [
      "(3, 5, 8, 9, 4, 5, 4, 5, 4, 5, 4, 5)\n",
      "(18, 23, 1, 18, 23, 1, 18, 23, 1, 18, 23, 1, 18, 23, 1, 18, 23, 1, 18, 23, 1, 18, 23, 1)\n"
     ]
    }
   ],
   "source": [
    "# Birleştirme += ve *= ile de yapılabilir.\n",
    "\n",
    "demet2 += 4, 5\n",
    "demet1 *= 2\n",
    "\n",
    "print(demet2)\n",
    "print(demet1)"
   ]
  },
  {
   "cell_type": "markdown",
   "metadata": {},
   "source": [
    "Çeşitli metotlarla tuple içerisinde işlem yapılabilir."
   ]
  },
  {
   "cell_type": "code",
   "execution_count": 32,
   "metadata": {
    "ExecuteTime": {
     "end_time": "2020-04-18T10:07:59.984786Z",
     "start_time": "2020-04-18T10:07:59.975621Z"
    }
   },
   "outputs": [
    {
     "data": {
      "text/plain": [
       "1"
      ]
     },
     "execution_count": 32,
     "metadata": {},
     "output_type": "execute_result"
    }
   ],
   "source": [
    "demet1.index(23) # Tuple içerisindeki değerin kaçıncı indexte olduğunu bulur."
   ]
  },
  {
   "cell_type": "code",
   "execution_count": 34,
   "metadata": {
    "ExecuteTime": {
     "end_time": "2020-04-18T10:10:12.327926Z",
     "start_time": "2020-04-18T10:10:12.318437Z"
    }
   },
   "outputs": [
    {
     "data": {
      "text/plain": [
       "8"
      ]
     },
     "execution_count": 34,
     "metadata": {},
     "output_type": "execute_result"
    }
   ],
   "source": [
    "demet1.count(18) # Tuple içerisindeki değerin kaç tane olduğunu bulur."
   ]
  },
  {
   "cell_type": "markdown",
   "metadata": {},
   "source": [
    "## List (Liste)"
   ]
  },
  {
   "cell_type": "markdown",
   "metadata": {},
   "source": [
    "Farklı tipteki değerleri tutabilir. Elemanları değiştirilebilir."
   ]
  },
  {
   "cell_type": "code",
   "execution_count": 36,
   "metadata": {},
   "outputs": [
    {
     "name": "stdout",
     "output_type": "stream",
     "text": [
      "[1, 2, 3, 4, 5]\n",
      "[1.2, 56, 'b']\n",
      "[34, 21, 9, [3, 2, 1, 5, 6], 678]\n"
     ]
    }
   ],
   "source": [
    "# Bir liste [] köşeli parantez ile oluşturulur.\n",
    "\n",
    "liste_a = [1,2,3,4,5]\n",
    "liste_b = [1.2, 56, \"b\"]\n",
    "liste_c = [34, 21, 9, [3,2,1,5,6], 678] # İç içe listeler de oluşturulabilir.\n",
    "\n",
    "print(liste_a)\n",
    "print(liste_b)\n",
    "print(liste_c)"
   ]
  },
  {
   "cell_type": "code",
   "execution_count": 38,
   "metadata": {},
   "outputs": [
    {
     "name": "stdout",
     "output_type": "stream",
     "text": [
      "b\n",
      "[21, 9, [3, 2, 1, 5, 6], 678]\n"
     ]
    }
   ],
   "source": [
    "# Indexleme ile listenin elemanlarına ulaşılabilir.\n",
    "\n",
    "print(liste_b[2])\n",
    "print(liste_c[1:])"
   ]
  },
  {
   "cell_type": "markdown",
   "metadata": {},
   "source": [
    "Tuple ile farkı listelerin değiştirilebilir olmasıdır."
   ]
  },
  {
   "cell_type": "code",
   "execution_count": 39,
   "metadata": {},
   "outputs": [
    {
     "name": "stdout",
     "output_type": "stream",
     "text": [
      "[34, 21, 'İkinci', [3, 2, 1, 5, 6], 678]\n"
     ]
    }
   ],
   "source": [
    "liste_c[2] = \"İkinci\"\n",
    "\n",
    "print(liste_c)"
   ]
  },
  {
   "cell_type": "markdown",
   "metadata": {},
   "source": [
    "`append()` ve `extend()` metotlarıyla listelere eleman eklenebilir."
   ]
  },
  {
   "cell_type": "code",
   "execution_count": 41,
   "metadata": {},
   "outputs": [
    {
     "name": "stdout",
     "output_type": "stream",
     "text": [
      "[1, 2, 3, 4, 5, 6, 6]\n",
      "[1, 2, 3, 4, 5, 6, 6, [7, 8, 9]]\n"
     ]
    }
   ],
   "source": [
    "# append() metodu elemanı listenin sonuna ekler.\n",
    "# Yeni liste döndürmez, var olan listeyi günceller.\n",
    "\n",
    "liste_a.append(6)\n",
    "\n",
    "print(liste_a)\n",
    "\n",
    "liste_a.append([7,8,9]) # append() ile liste de bir eleman olarak algılandığı için olduğu ekler.\n",
    "\n",
    "print(liste_a)"
   ]
  },
  {
   "cell_type": "code",
   "execution_count": 44,
   "metadata": {},
   "outputs": [
    {
     "name": "stdout",
     "output_type": "stream",
     "text": [
      "[1, 2, 3, 4, 5, 6, 6, [7, 8, 9], 10, 11, 12, 10, 11, 12, 10, 11, 12]\n"
     ]
    }
   ],
   "source": [
    "# extend() metodunun append() metodundan farkı var. extend() tek eleman eklerken kullanılmaz.\n",
    "# extend() liste olarak eklenen elemanları birer eleman olarak ekler.\n",
    "\n",
    "liste_a.extend([10,11,12]) # Liste ekliyoruz ama extend bunları birer eleman olarak ekliyor.\n",
    "\n",
    "print(liste_a)\n",
    "\n",
    "# liste_a.extend(13) # Tek eleman eklemek istendiğinde hata verir."
   ]
  },
  {
   "cell_type": "markdown",
   "metadata": {},
   "source": [
    "`insert()` metoduyla istenilen pozisyona eleman eklenir."
   ]
  },
  {
   "cell_type": "code",
   "execution_count": 45,
   "metadata": {},
   "outputs": [
    {
     "name": "stdout",
     "output_type": "stream",
     "text": [
      "[1, 2, 3, 'eleman', 4, 5, 6, 6, [7, 8, 9], 10, 11, 12, 10, 11, 12, 10, 11, 12]\n"
     ]
    }
   ],
   "source": [
    "liste_a.insert(3, \"eleman\") # İstenilen pozisyona ekler, onu değiştirmez.\n",
    "\n",
    "print(liste_a)"
   ]
  },
  {
   "cell_type": "markdown",
   "metadata": {},
   "source": [
    "`remove()` ile istenilen elemen silinebilir."
   ]
  },
  {
   "cell_type": "code",
   "execution_count": 46,
   "metadata": {},
   "outputs": [
    {
     "name": "stdout",
     "output_type": "stream",
     "text": [
      "[1, 2, 3, 'eleman', 4, 5, 6, 6, [7, 8, 9], 10, 11, 10, 11, 12, 10, 11, 12]\n"
     ]
    }
   ],
   "source": [
    "liste_a.remove(12) # Gördüğü ilk değeri sildi. Sildiği anda da işi bitti. Tümünü silmedi.\n",
    "\n",
    "print(liste_a)"
   ]
  },
  {
   "cell_type": "markdown",
   "metadata": {},
   "source": [
    "`pop()` ile pozisyonu girildiğinde siler veya boş olduğunda son elemanı siler."
   ]
  },
  {
   "cell_type": "code",
   "execution_count": 48,
   "metadata": {},
   "outputs": [
    {
     "name": "stdout",
     "output_type": "stream",
     "text": [
      "[1, 2, 3, 'eleman', 4, 5, 6, 6, [7, 8, 9], 10, 11, 10, 11, 12, 10]\n",
      "[1, 2, 3, 4, 5, 6, 6, [7, 8, 9], 10, 11, 10, 11, 12, 10]\n"
     ]
    }
   ],
   "source": [
    "liste_a.pop()\n",
    "\n",
    "print(liste_a)\n",
    "\n",
    "liste_a.pop(3)\n",
    "\n",
    "print(liste_a)"
   ]
  },
  {
   "cell_type": "markdown",
   "metadata": {},
   "source": [
    "`index()` elemanın posiyonunu döndürür."
   ]
  },
  {
   "cell_type": "code",
   "execution_count": 49,
   "metadata": {},
   "outputs": [
    {
     "data": {
      "text/plain": [
       "8"
      ]
     },
     "execution_count": 49,
     "metadata": {},
     "output_type": "execute_result"
    }
   ],
   "source": [
    "liste_a.index(10)"
   ]
  },
  {
   "cell_type": "markdown",
   "metadata": {},
   "source": [
    "`count()` listede elemanın kaç tane olduğunu söyler."
   ]
  },
  {
   "cell_type": "code",
   "execution_count": 50,
   "metadata": {},
   "outputs": [
    {
     "data": {
      "text/plain": [
       "3"
      ]
     },
     "execution_count": 50,
     "metadata": {},
     "output_type": "execute_result"
    }
   ],
   "source": [
    "liste_a.count(10)"
   ]
  },
  {
   "cell_type": "markdown",
   "metadata": {},
   "source": [
    "`sort()` listenin elemanlarını int veya str olsun farketmez, sıralar."
   ]
  },
  {
   "cell_type": "code",
   "execution_count": 52,
   "metadata": {},
   "outputs": [
    {
     "name": "stdout",
     "output_type": "stream",
     "text": [
      "[1, 2, 3, 4, 5, 6, 6, 10, 10, 10, 11, 11, 12]\n"
     ]
    }
   ],
   "source": [
    "# İlk çalıştığında içinde liste vardı, içteki listeyi sıralayamacağı için hata verdi.\n",
    "\n",
    "liste_a.pop(7) # İçindeki listeyi sildi.\n",
    "\n",
    "liste_a.sort()\n",
    "\n",
    "print(liste_a)"
   ]
  },
  {
   "cell_type": "markdown",
   "metadata": {},
   "source": [
    "`reverse()` listeyi ters çevirir."
   ]
  },
  {
   "cell_type": "code",
   "execution_count": 53,
   "metadata": {},
   "outputs": [
    {
     "name": "stdout",
     "output_type": "stream",
     "text": [
      "[12, 11, 11, 10, 10, 10, 6, 6, 5, 4, 3, 2, 1]\n"
     ]
    }
   ],
   "source": [
    "liste_a.reverse()\n",
    "\n",
    "print(liste_a)"
   ]
  },
  {
   "cell_type": "markdown",
   "metadata": {},
   "source": [
    "## Dictionary (Sözlük)"
   ]
  },
  {
   "cell_type": "markdown",
   "metadata": {},
   "source": [
    "Sıralı değildir, telefon rehberlerine benzer. Key - value şeklinde çalışır. Değiştirilebilir."
   ]
  },
  {
   "cell_type": "code",
   "execution_count": 60,
   "metadata": {},
   "outputs": [
    {
     "name": "stdout",
     "output_type": "stream",
     "text": [
      "{'key1': 'value1', 'key2': 22354, 3: ['value3', 23, 45, 'kelime']}\n",
      "['value3', 23, 45, 'kelime']\n",
      "23\n",
      "value2\n",
      "{'key2': 'value2', 3: ['value3', 23, 45, 'kelime']}\n"
     ]
    }
   ],
   "source": [
    "# Sözlükler farklı tipte verileri barındırabilir.\n",
    "# Sözlük içinde sözlük bile oluşturabilir.\n",
    "\n",
    "sozluk = {\"key1\" : \"value1\",\n",
    "          \"key2\" : 22354,\n",
    "          3 : [\"value3\", 23, 45, \"kelime\"]}\n",
    "\n",
    "print(sozluk)\n",
    "print(sozluk[3]) # Girilen key değerine atanmış value değerini alır.\n",
    "print(sozluk[3][1]) # Value içinden index yapılabilir.\n",
    "\n",
    "sozluk['key2'] = \"value2\" # Değiştirilebilir.\n",
    "\n",
    "print(sozluk[\"key2\"])\n",
    "\n",
    "del(sozluk[\"key1\"]) # Sözlük içindeki key ve value değerini siler.\n",
    "\n",
    "print(sozluk)"
   ]
  },
  {
   "cell_type": "code",
   "execution_count": 61,
   "metadata": {},
   "outputs": [
    {
     "data": {
      "text/plain": [
       "2"
      ]
     },
     "execution_count": 61,
     "metadata": {},
     "output_type": "execute_result"
    }
   ],
   "source": [
    "len(sozluk) # İçerideki key - value ikilisini sayar."
   ]
  },
  {
   "cell_type": "code",
   "execution_count": 62,
   "metadata": {},
   "outputs": [
    {
     "data": {
      "text/plain": [
       "{'key2': 'value2', 3: ['value3', 23, 45, 'kelime']}"
      ]
     },
     "execution_count": 62,
     "metadata": {},
     "output_type": "execute_result"
    }
   ],
   "source": [
    "sozluk_copy = sozluk.copy() # Sözlüğün kopyasını oluşturur.\n",
    "\n",
    "sozluk_copy"
   ]
  },
  {
   "cell_type": "markdown",
   "metadata": {},
   "source": [
    "## Set (Küme)"
   ]
  },
  {
   "cell_type": "markdown",
   "metadata": {},
   "source": [
    "Matematikteki kümelerin birleşim, kesişim gibi özelliklerini taşır. Değiştirilebilir ve benzersiz değerler taşır, indexlenebilir değildir."
   ]
  },
  {
   "cell_type": "code",
   "execution_count": 63,
   "metadata": {},
   "outputs": [
    {
     "data": {
      "text/plain": [
       "{1, 3, 5, 5.2, 'a', 'd'}"
      ]
     },
     "execution_count": 63,
     "metadata": {},
     "output_type": "execute_result"
    }
   ],
   "source": [
    "kume = {1, 3, 5, \"a\", 5.2, \"d\"}\n",
    "\n",
    "kume"
   ]
  },
  {
   "cell_type": "markdown",
   "metadata": {},
   "source": [
    "Bir küme oluşturulduğunda elemanları değiştiremeyiz ama ekleyip çıkartabiliriz."
   ]
  },
  {
   "cell_type": "code",
   "execution_count": 66,
   "metadata": {},
   "outputs": [
    {
     "data": {
      "text/plain": [
       "{1, 3, 5, 5.2, 99, 'a', 'd'}"
      ]
     },
     "execution_count": 66,
     "metadata": {},
     "output_type": "execute_result"
    }
   ],
   "source": [
    "kume.add(99) # Kümeye eleman ekler. Bu kod ne kadar çalışırsa çalışsın hata vermez ama ekler.\n",
    "\n",
    "kume"
   ]
  },
  {
   "cell_type": "code",
   "execution_count": 70,
   "metadata": {},
   "outputs": [
    {
     "data": {
      "text/plain": [
       "{1, 3, 5, 5.2, 99, 'a', 'b', 'c', 'd'}"
      ]
     },
     "execution_count": 70,
     "metadata": {},
     "output_type": "execute_result"
    }
   ],
   "source": [
    "# Birden fazla eleman eklerken kullanılır.\n",
    "\n",
    "kume.update(\"ab\", \"cd\") # Sadece int eklerken hata verir. Liste olmayan her karakter bir değerdir.\n",
    "\n",
    "kume"
   ]
  },
  {
   "cell_type": "code",
   "execution_count": 71,
   "metadata": {},
   "outputs": [
    {
     "data": {
      "text/plain": [
       "{1, 3, 34, 5, 5.2, 9.3, 99, 'a', 'b', 'c', 'd', 'eleman'}"
      ]
     },
     "execution_count": 71,
     "metadata": {},
     "output_type": "execute_result"
    }
   ],
   "source": [
    "kume.update([\"eleman\", 34, 9.3]) # Liste de eklenebilir.\n",
    "\n",
    "kume"
   ]
  },
  {
   "cell_type": "code",
   "execution_count": 72,
   "metadata": {},
   "outputs": [
    {
     "data": {
      "text/plain": [
       "12"
      ]
     },
     "execution_count": 72,
     "metadata": {},
     "output_type": "execute_result"
    }
   ],
   "source": [
    "len(kume) # Kümedeki eleman sayısını getirir."
   ]
  },
  {
   "cell_type": "markdown",
   "metadata": {},
   "source": [
    "`remove()` ve `discard()` kümeden eleman siler. Kümede olmayan bir elemanı remove ile silmeye çalışırken hata verir discard ile aynısı yapıldığında hata vermez. `clear()` ise kümeyi temizler."
   ]
  },
  {
   "cell_type": "code",
   "execution_count": 73,
   "metadata": {},
   "outputs": [
    {
     "data": {
      "text/plain": [
       "{1, 3, 34, 5, 9.3, 99, 'a', 'b', 'c', 'd', 'eleman'}"
      ]
     },
     "execution_count": 73,
     "metadata": {},
     "output_type": "execute_result"
    }
   ],
   "source": [
    "kume.remove(5.2)\n",
    "\n",
    "kume"
   ]
  },
  {
   "cell_type": "markdown",
   "metadata": {},
   "source": [
    "Matematikteki kesişim, birleşim ve fark burada da kullanılabilir."
   ]
  },
  {
   "cell_type": "code",
   "execution_count": 76,
   "metadata": {},
   "outputs": [
    {
     "name": "stdout",
     "output_type": "stream",
     "text": [
      "{0, 1, 2, 3, 99, 101, 6, 7, 'ilk', 'ikinci', 12, 'a', 23, 89}\n",
      "{89, 2}\n",
      "{1, 3, 6, 'ilk', 7, 'a'}\n",
      "{0, 99, 101, 'ikinci', 12, 23}\n"
     ]
    }
   ],
   "source": [
    "ilk_kume = {1,2,3,6,7,89,\"a\",\"ilk\"}\n",
    "ikinci_kume = {2,23,12,89,\"ikinci\",99,0,101}\n",
    "\n",
    "birlesim = ilk_kume.union(ikinci_kume) # union birleşim kümesi oluşturur.\n",
    "\n",
    "print(birlesim)\n",
    "\n",
    "kesisim = ilk_kume.intersection(ikinci_kume) # intersection kesişim kümesi oluşturur.\n",
    "\n",
    "print(kesisim)\n",
    "\n",
    "ilk_fark = ilk_kume.difference(ikinci_kume) # İlk kümede olup da ikinci de olmayanlar.\n",
    "\n",
    "ikinci_fark = ikinci_kume.difference(ilk_kume) # İkinci kümede olup da ilk kümede olmayanlar.\n",
    "\n",
    "print(ilk_fark)\n",
    "print(ikinci_fark)\n",
    "\n"
   ]
  },
  {
   "cell_type": "markdown",
   "metadata": {},
   "source": [
    "`issubset()` alt küme mi, `isdisjoint()` kesişimleri olup olmadığını, `issuperset()`de kapsayıp kapsamadığını sorar. Sonuçlarında `True` veya `False` döner."
   ]
  },
  {
   "cell_type": "code",
   "execution_count": 78,
   "metadata": {},
   "outputs": [
    {
     "name": "stdout",
     "output_type": "stream",
     "text": [
      "False\n",
      "False\n",
      "False\n"
     ]
    }
   ],
   "source": [
    "print(ilk_kume.issubset(ikinci_kume))\n",
    "print(ilk_kume.isdisjoint(ikinci_kume))\n",
    "print(ilk_kume.issuperset(ikinci_kume))"
   ]
  }
 ],
 "metadata": {
  "hide_input": false,
  "kernelspec": {
   "display_name": "Python 3 (ipykernel)",
   "language": "python",
   "name": "python3"
  },
  "language_info": {
   "codemirror_mode": {
    "name": "ipython",
    "version": 3
   },
   "file_extension": ".py",
   "mimetype": "text/x-python",
   "name": "python",
   "nbconvert_exporter": "python",
   "pygments_lexer": "ipython3",
   "version": "3.8.12"
  },
  "toc": {
   "base_numbering": 1,
   "nav_menu": {},
   "number_sections": false,
   "sideBar": true,
   "skip_h1_title": false,
   "title_cell": "Table of Contents",
   "title_sidebar": "Contents",
   "toc_cell": false,
   "toc_position": {},
   "toc_section_display": true,
   "toc_window_display": true
  },
  "varInspector": {
   "cols": {
    "lenName": 16,
    "lenType": 16,
    "lenVar": 40
   },
   "kernels_config": {
    "python": {
     "delete_cmd_postfix": "",
     "delete_cmd_prefix": "del ",
     "library": "var_list.py",
     "varRefreshCmd": "print(var_dic_list())"
    },
    "r": {
     "delete_cmd_postfix": ") ",
     "delete_cmd_prefix": "rm(",
     "library": "var_list.r",
     "varRefreshCmd": "cat(var_dic_list()) "
    }
   },
   "types_to_exclude": [
    "module",
    "function",
    "builtin_function_or_method",
    "instance",
    "_Feature"
   ],
   "window_display": false
  }
 },
 "nbformat": 4,
 "nbformat_minor": 4
}
