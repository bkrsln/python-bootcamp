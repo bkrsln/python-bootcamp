{
 "cells": [
  {
   "cell_type": "markdown",
   "metadata": {},
   "source": [
    "# Anahtar kelimeler ve operatörler"
   ]
  },
  {
   "cell_type": "markdown",
   "metadata": {},
   "source": [
    "## Anahtar kelimeler (Keywords)"
   ]
  },
  {
   "cell_type": "markdown",
   "metadata": {},
   "source": [
    "Bazı kelimelerin (continue, break, and.. gibi) özel işlevleri var. "
   ]
  },
  {
   "cell_type": "markdown",
   "metadata": {},
   "source": [
    "## Operatörler"
   ]
  },
  {
   "cell_type": "markdown",
   "metadata": {},
   "source": [
    "Değişkenler veya veri yapıları üzerinde işlemler yapabilmek için operatörlere ihtiyaç var."
   ]
  },
  {
   "cell_type": "markdown",
   "metadata": {},
   "source": [
    "### Aritmetik"
   ]
  },
  {
   "cell_type": "markdown",
   "metadata": {},
   "source": [
    "Matematikteki işlemleri yapabilen operatörlerdir."
   ]
  },
  {
   "cell_type": "code",
   "execution_count": 2,
   "metadata": {},
   "outputs": [
    {
     "name": "stdout",
     "output_type": "stream",
     "text": [
      "8\n",
      "2\n",
      "15\n",
      "1.6666666666666667\n",
      "125\n",
      "2\n",
      "1\n"
     ]
    }
   ],
   "source": [
    "print(5 + 3) # Toplama.\n",
    "print(5 - 3) # Çıkarma\n",
    "print(5 * 3) # Çarpma\n",
    "print(5 / 3) # Bölme.\n",
    "print(5 ** 3) # Kuvvet alma.\n",
    "print(5 % 3) # Bölümünden kalan\n",
    "print(5 // 3) # Ondalıksız kat bölümü."
   ]
  },
  {
   "cell_type": "markdown",
   "metadata": {},
   "source": [
    "### Karşılaştırma"
   ]
  },
  {
   "cell_type": "markdown",
   "metadata": {},
   "source": [
    "İki veya daha fazla değeri karşılaştırmak için kullanılır."
   ]
  },
  {
   "cell_type": "code",
   "execution_count": 7,
   "metadata": {},
   "outputs": [
    {
     "name": "stdout",
     "output_type": "stream",
     "text": [
      "True\n",
      "False\n",
      "True\n",
      "False\n",
      "True\n",
      "True\n"
     ]
    }
   ],
   "source": [
    "a = 5\n",
    "b = 3\n",
    "x = 5\n",
    "y = 8\n",
    "\n",
    "print(a == x) # Eşitse True döndürür.\n",
    "print(a != x) # Eşit değilse True döndürür.\n",
    "print(y > x) # Büyükse.\n",
    "print(y < x) # Küçükse.\n",
    "print(a >= b) # Büyük veya eşitse.\n",
    "print(x <= y) # Küçük veya eşitse. "
   ]
  },
  {
   "cell_type": "markdown",
   "metadata": {},
   "source": [
    "### Mantıksal (Logical)"
   ]
  },
  {
   "cell_type": "markdown",
   "metadata": {},
   "source": [
    "İki veya daha fazla işlemi karşılaştırmak için kullanılır."
   ]
  },
  {
   "cell_type": "code",
   "execution_count": 10,
   "metadata": {},
   "outputs": [
    {
     "name": "stdout",
     "output_type": "stream",
     "text": [
      "True\n",
      "True\n",
      "False\n"
     ]
    }
   ],
   "source": [
    "# and işleminde iki şartı da sağlarnırsa True döner.\n",
    "\n",
    "print(a == x and x < y)\n",
    "\n",
    "# or karşılaştırmasında işlemlerin birinin doğru olması True döndürmesini,\n",
    "# tamamının yanlış olması False döndürmesini sağlar.\n",
    "\n",
    "print(a == x or x > y or b > y)\n",
    "\n",
    "# not işlem sonucunu ters döndürür.\n",
    "\n",
    "print(not a == x)\n"
   ]
  },
  {
   "cell_type": "markdown",
   "metadata": {},
   "source": [
    "### Atama"
   ]
  },
  {
   "cell_type": "code",
   "execution_count": 4,
   "metadata": {},
   "outputs": [],
   "source": [
    "a = 5 # Tek değişkene atama yapar.\n",
    "a, b = 5, 3 # Birden fazla değişkene de atama yapılabilir.\n",
    "a += 2 # İki artır değeri güncelle. a = a + 2 işlemini yapar.\n",
    "a -= 2 # İki azalt değeri güncelle. a = a - 2\n",
    "a *= 2 # Değişkeni ikiyle çarp güncelle. a = a * 2\n",
    "a /= 2 # Değişkeni ikiye böl güncelle. a = a / 2\n",
    "a %= 2 # İkiye bölümünden kalan değeri değişkene ata. a = a % 2"
   ]
  }
 ],
 "metadata": {
  "hide_input": false,
  "kernelspec": {
   "display_name": "Python 3",
   "language": "python",
   "name": "python3"
  },
  "language_info": {
   "codemirror_mode": {
    "name": "ipython",
    "version": 3
   },
   "file_extension": ".py",
   "mimetype": "text/x-python",
   "name": "python",
   "nbconvert_exporter": "python",
   "pygments_lexer": "ipython3",
   "version": "3.7.4"
  },
  "toc": {
   "base_numbering": 1,
   "nav_menu": {},
   "number_sections": false,
   "sideBar": true,
   "skip_h1_title": false,
   "title_cell": "Table of Contents",
   "title_sidebar": "Contents",
   "toc_cell": false,
   "toc_position": {},
   "toc_section_display": true,
   "toc_window_display": true
  },
  "varInspector": {
   "cols": {
    "lenName": 16,
    "lenType": 16,
    "lenVar": 40
   },
   "kernels_config": {
    "python": {
     "delete_cmd_postfix": "",
     "delete_cmd_prefix": "del ",
     "library": "var_list.py",
     "varRefreshCmd": "print(var_dic_list())"
    },
    "r": {
     "delete_cmd_postfix": ") ",
     "delete_cmd_prefix": "rm(",
     "library": "var_list.r",
     "varRefreshCmd": "cat(var_dic_list()) "
    }
   },
   "types_to_exclude": [
    "module",
    "function",
    "builtin_function_or_method",
    "instance",
    "_Feature"
   ],
   "window_display": false
  }
 },
 "nbformat": 4,
 "nbformat_minor": 4
}
