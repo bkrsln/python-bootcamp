{
 "cells": [
  {
   "cell_type": "markdown",
   "id": "3daaa89d-2c98-493b-b2f3-60792f87485b",
   "metadata": {
    "tags": []
   },
   "source": [
    "# Crash Course"
   ]
  },
  {
   "cell_type": "code",
   "execution_count": 1,
   "id": "9dfc5d84-df0e-40a2-be8f-e821987be9e5",
   "metadata": {},
   "outputs": [
    {
     "data": {
      "text/plain": [
       "int"
      ]
     },
     "execution_count": 1,
     "metadata": {},
     "output_type": "execute_result"
    }
   ],
   "source": [
    "type(1)"
   ]
  },
  {
   "cell_type": "code",
   "execution_count": 2,
   "id": "502e32d2-326e-4912-99f7-0cfa0c23c63d",
   "metadata": {},
   "outputs": [
    {
     "data": {
      "text/plain": [
       "float"
      ]
     },
     "execution_count": 2,
     "metadata": {},
     "output_type": "execute_result"
    }
   ],
   "source": [
    "type(1.0)"
   ]
  },
  {
   "cell_type": "code",
   "execution_count": 3,
   "id": "e8bc7415-0d3a-414e-a2cf-80878e79c7f2",
   "metadata": {},
   "outputs": [
    {
     "data": {
      "text/plain": [
       "3"
      ]
     },
     "execution_count": 3,
     "metadata": {},
     "output_type": "execute_result"
    }
   ],
   "source": [
    "1*3"
   ]
  },
  {
   "cell_type": "code",
   "execution_count": 4,
   "id": "6b3fc85c-a5c1-4353-809b-69bf7a423b4e",
   "metadata": {},
   "outputs": [
    {
     "data": {
      "text/plain": [
       "1"
      ]
     },
     "execution_count": 4,
     "metadata": {},
     "output_type": "execute_result"
    }
   ],
   "source": [
    " 5 % 2"
   ]
  },
  {
   "cell_type": "code",
   "execution_count": 5,
   "id": "9f0c57f2-3c0b-4b36-803b-80d6ebeb2e72",
   "metadata": {},
   "outputs": [
    {
     "data": {
      "text/plain": [
       "20"
      ]
     },
     "execution_count": 5,
     "metadata": {},
     "output_type": "execute_result"
    }
   ],
   "source": [
    "2 + 3 * 6"
   ]
  },
  {
   "cell_type": "code",
   "execution_count": 6,
   "id": "01cb189e-7c2e-41c0-9888-3696bfffa30b",
   "metadata": {},
   "outputs": [
    {
     "data": {
      "text/plain": [
       "10"
      ]
     },
     "execution_count": 6,
     "metadata": {},
     "output_type": "execute_result"
    }
   ],
   "source": [
    "x = 4\n",
    "y = 6\n",
    "\n",
    "x + y"
   ]
  },
  {
   "cell_type": "code",
   "execution_count": 8,
   "id": "ae7d3ebf-006e-4820-a7f0-ad7f5b3044c3",
   "metadata": {},
   "outputs": [
    {
     "name": "stdout",
     "output_type": "stream",
     "text": [
      "This is string\n"
     ]
    }
   ],
   "source": [
    "print(\"This is {}\".format(\"string\"))"
   ]
  },
  {
   "cell_type": "code",
   "execution_count": 10,
   "id": "7d20ad39-4de8-449c-ae3d-a61e1101732d",
   "metadata": {},
   "outputs": [
    {
     "name": "stdout",
     "output_type": "stream",
     "text": [
      "This is string, and this 3 a number.\n"
     ]
    }
   ],
   "source": [
    "print(\"This is {}, and this {} a number.\".format(\"string\", 3))"
   ]
  },
  {
   "cell_type": "code",
   "execution_count": 13,
   "id": "59c4e0f2-c6c6-4116-bc7a-4b0e416ea468",
   "metadata": {},
   "outputs": [
    {
     "name": "stdout",
     "output_type": "stream",
     "text": [
      "First: Y, Second: X\n"
     ]
    }
   ],
   "source": [
    "print(\"First: {y}, Second: {x}\".format(x = \"X\", y = \"Y\"))"
   ]
  },
  {
   "cell_type": "code",
   "execution_count": 14,
   "id": "a1453933-154a-4908-918e-c51c52653b91",
   "metadata": {},
   "outputs": [
    {
     "data": {
      "text/plain": [
       "[1, 2, 3, 4]"
      ]
     },
     "execution_count": 14,
     "metadata": {},
     "output_type": "execute_result"
    }
   ],
   "source": [
    "[1,2,3,4]"
   ]
  },
  {
   "cell_type": "code",
   "execution_count": 16,
   "id": "7495012d-e08d-4895-9f21-4dce98975232",
   "metadata": {},
   "outputs": [
    {
     "data": {
      "text/plain": [
       "['1', '2', '3', 4]"
      ]
     },
     "execution_count": 16,
     "metadata": {},
     "output_type": "execute_result"
    }
   ],
   "source": [
    "[\"1\",\"2\",\"3\",4]"
   ]
  },
  {
   "cell_type": "code",
   "execution_count": 17,
   "id": "09d25880-18cf-4d95-b5ac-fbb138c95e28",
   "metadata": {},
   "outputs": [
    {
     "data": {
      "text/plain": [
       "'1'"
      ]
     },
     "execution_count": 17,
     "metadata": {},
     "output_type": "execute_result"
    }
   ],
   "source": [
    "temp_list = [\"1\",\"2\",\"3\",4]\n",
    "\n",
    "temp_list[0]"
   ]
  },
  {
   "cell_type": "code",
   "execution_count": 18,
   "id": "c4efdbb6-fde2-4303-97fb-27efbadfdd34",
   "metadata": {},
   "outputs": [
    {
     "data": {
      "text/plain": [
       "['New', '2', '3', 4]"
      ]
     },
     "execution_count": 18,
     "metadata": {},
     "output_type": "execute_result"
    }
   ],
   "source": [
    "temp_list[0] = \"New\"\n",
    "\n",
    "temp_list"
   ]
  },
  {
   "cell_type": "code",
   "execution_count": 19,
   "id": "ae4b2373-f606-4410-adb5-5707789710de",
   "metadata": {},
   "outputs": [
    {
     "data": {
      "text/plain": [
       "['New', '2', '3', 4, 6]"
      ]
     },
     "execution_count": 19,
     "metadata": {},
     "output_type": "execute_result"
    }
   ],
   "source": [
    "temp_list.append(6)\n",
    "\n",
    "temp_list"
   ]
  },
  {
   "cell_type": "code",
   "execution_count": 20,
   "id": "0a539218-4e23-44e3-840d-28fe3babcaf6",
   "metadata": {},
   "outputs": [
    {
     "data": {
      "text/plain": [
       "7"
      ]
     },
     "execution_count": 20,
     "metadata": {},
     "output_type": "execute_result"
    }
   ],
   "source": [
    "sec_list = [1,2,3,[6,7,8,9]]\n",
    "\n",
    "sec_list[3][1]"
   ]
  },
  {
   "cell_type": "code",
   "execution_count": 21,
   "id": "ebe43590-af9e-4af1-a38f-31a0e3588cf9",
   "metadata": {},
   "outputs": [
    {
     "data": {
      "text/plain": [
       "'value1'"
      ]
     },
     "execution_count": 21,
     "metadata": {},
     "output_type": "execute_result"
    }
   ],
   "source": [
    "sample_dict = {'key1':'value1', 'key2':'value2'}\n",
    "\n",
    "sample_dict['key1']"
   ]
  },
  {
   "cell_type": "code",
   "execution_count": 22,
   "id": "a39b06e1-d74a-43c0-9191-f38c93bb968a",
   "metadata": {},
   "outputs": [
    {
     "data": {
      "text/plain": [
       "False"
      ]
     },
     "execution_count": 22,
     "metadata": {},
     "output_type": "execute_result"
    }
   ],
   "source": [
    "1 > 5"
   ]
  },
  {
   "cell_type": "code",
   "execution_count": 23,
   "id": "a80db4ec-4028-47eb-85a1-18ebc0e099d4",
   "metadata": {},
   "outputs": [
    {
     "data": {
      "text/plain": [
       "False"
      ]
     },
     "execution_count": 23,
     "metadata": {},
     "output_type": "execute_result"
    }
   ],
   "source": [
    "'A' == 'a'"
   ]
  },
  {
   "cell_type": "code",
   "execution_count": 24,
   "id": "e1a7a5e8-11b4-4f44-8e42-ca2a8bb13f0c",
   "metadata": {},
   "outputs": [
    {
     "data": {
      "text/plain": [
       "True"
      ]
     },
     "execution_count": 24,
     "metadata": {},
     "output_type": "execute_result"
    }
   ],
   "source": [
    "1 == 1"
   ]
  },
  {
   "cell_type": "code",
   "execution_count": 25,
   "id": "21788925-0ece-4554-84dc-2a8e7f30f9c2",
   "metadata": {},
   "outputs": [
    {
     "data": {
      "text/plain": [
       "True"
      ]
     },
     "execution_count": 25,
     "metadata": {},
     "output_type": "execute_result"
    }
   ],
   "source": [
    "1 >= 1"
   ]
  },
  {
   "cell_type": "code",
   "execution_count": 26,
   "id": "6f504bde-f58d-46a8-b6bd-77ed88e8c443",
   "metadata": {},
   "outputs": [
    {
     "data": {
      "text/plain": [
       "True"
      ]
     },
     "execution_count": 26,
     "metadata": {},
     "output_type": "execute_result"
    }
   ],
   "source": [
    "1 != 3"
   ]
  },
  {
   "cell_type": "code",
   "execution_count": 27,
   "id": "7d55579e-5e43-4fac-8879-3bb14e3b74e8",
   "metadata": {},
   "outputs": [
    {
     "data": {
      "text/plain": [
       "True"
      ]
     },
     "execution_count": 27,
     "metadata": {},
     "output_type": "execute_result"
    }
   ],
   "source": [
    "(8 != 9) and ('x' == 'x')"
   ]
  },
  {
   "cell_type": "code",
   "execution_count": 29,
   "id": "48fcb84a-01f4-4874-8460-6d4bed00f132",
   "metadata": {},
   "outputs": [
    {
     "name": "stdout",
     "output_type": "stream",
     "text": [
      "F\n"
     ]
    }
   ],
   "source": [
    "if 1 == 2:\n",
    "    print(\"T\")\n",
    "else:\n",
    "    print(\"F\")"
   ]
  },
  {
   "cell_type": "code",
   "execution_count": 31,
   "id": "9ed8c5c7-c2e9-4ce2-a0dc-df7fdf25ed28",
   "metadata": {},
   "outputs": [
    {
     "name": "stdout",
     "output_type": "stream",
     "text": [
      "Two\n"
     ]
    }
   ],
   "source": [
    "if 1 == 2:\n",
    "    print(\"One\")\n",
    "elif 3 == 3:\n",
    "    print(\"Two\")\n",
    "else:\n",
    "    print(\"Three\")"
   ]
  },
  {
   "cell_type": "code",
   "execution_count": 37,
   "id": "d38e7cc5-b531-4dda-bafc-4cf723c16d76",
   "metadata": {},
   "outputs": [
    {
     "name": "stdout",
     "output_type": "stream",
     "text": [
      "Number is: 3\n",
      "Number is: 6\n",
      "Number is: 9\n",
      "Number is: 12\n",
      "Number is: 15\n",
      "Number is: 18\n"
     ]
    }
   ],
   "source": [
    "a_list = [1,2,3,4,5,6]\n",
    "\n",
    "for item in a_list:\n",
    "    new_item = item * 3\n",
    "    print('Number is: {}'.format(new_item))"
   ]
  },
  {
   "cell_type": "code",
   "execution_count": 38,
   "id": "318075cb-cc63-427d-8521-751bef210485",
   "metadata": {},
   "outputs": [
    {
     "name": "stdout",
     "output_type": "stream",
     "text": [
      "Value is: 1\n",
      "Value is: 2\n",
      "Value is: 3\n",
      "Value is: 4\n",
      "Value is: 5\n"
     ]
    }
   ],
   "source": [
    "value = 1\n",
    "\n",
    "while value < 6:\n",
    "    print('Value is: {}'.format(value))\n",
    "    value = value + 1"
   ]
  },
  {
   "cell_type": "code",
   "execution_count": 39,
   "id": "c20d9410-6f26-4fea-9212-87dc107062a5",
   "metadata": {},
   "outputs": [
    {
     "name": "stdout",
     "output_type": "stream",
     "text": [
      "[1, 4, 9, 16, 25, 36, 49, 64]\n"
     ]
    }
   ],
   "source": [
    "x_list = [1,2,3,4,5,6,7,8]\n",
    "\n",
    "out = []\n",
    "\n",
    "for i in x_list:\n",
    "    out.append(i**2)\n",
    "    \n",
    "print(out)"
   ]
  },
  {
   "cell_type": "code",
   "execution_count": null,
   "id": "b92537f2-a603-4c0b-920b-39257c15f2b9",
   "metadata": {},
   "outputs": [],
   "source": []
  }
 ],
 "metadata": {
  "kernelspec": {
   "display_name": "Python 3 (ipykernel)",
   "language": "python",
   "name": "python3"
  },
  "language_info": {
   "codemirror_mode": {
    "name": "ipython",
    "version": 3
   },
   "file_extension": ".py",
   "mimetype": "text/x-python",
   "name": "python",
   "nbconvert_exporter": "python",
   "pygments_lexer": "ipython3",
   "version": "3.8.12"
  },
  "toc-autonumbering": true
 },
 "nbformat": 4,
 "nbformat_minor": 5
}
