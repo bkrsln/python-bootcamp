{
 "cells": [
  {
   "cell_type": "markdown",
   "metadata": {},
   "source": [
    "# NumPy"
   ]
  },
  {
   "cell_type": "markdown",
   "metadata": {},
   "source": [
    "Python içerisinde bir kütüphanedir. Büyük ve çok boyutlu diziler ile matrisler üzerinde çalışılabilecek üst düzey matematik koleksiyonu sunar."
   ]
  },
  {
   "cell_type": "code",
   "execution_count": 2,
   "metadata": {},
   "outputs": [],
   "source": [
    "# İlk olarak import edilir. \n",
    "# Kişiye bağlı kullanımdır ama literatürde np olarak adlandırılır. \n",
    "\n",
    "import numpy as np "
   ]
  },
  {
   "cell_type": "markdown",
   "metadata": {},
   "source": [
    "Matris olaran `array` bir veri depolama çeşididir. NumPy'ın veriyi kullanabilmesi için veriler `array` haline getirilir."
   ]
  },
  {
   "cell_type": "code",
   "execution_count": 3,
   "metadata": {},
   "outputs": [
    {
     "data": {
      "text/plain": [
       "array([[1, 2, 3],\n",
       "       [4, 5, 6],\n",
       "       [7, 8, 9]])"
      ]
     },
     "execution_count": 3,
     "metadata": {},
     "output_type": "execute_result"
    }
   ],
   "source": [
    "veri = [[1,2,3],[4,5,6],[7,8,9]]\n",
    "\n",
    "a = np.array(veri) # Eldeki veriyi array formatına çevirir.\n",
    "\n",
    "a"
   ]
  },
  {
   "cell_type": "markdown",
   "metadata": {},
   "source": [
    "Diğer veri türlerinde olduğu gibi `array` içindeki indexlere de ulaşabiliriz."
   ]
  },
  {
   "cell_type": "code",
   "execution_count": 5,
   "metadata": {},
   "outputs": [
    {
     "name": "stdout",
     "output_type": "stream",
     "text": [
      "[1 2 3]\n",
      "6\n"
     ]
    }
   ],
   "source": [
    "print(a[0])    # 0. indexteki veriyi alır.\n",
    "print(a[1,2])  # 1. indexin 2. verisini alır."
   ]
  },
  {
   "cell_type": "markdown",
   "metadata": {},
   "source": [
    "Fancy Index ile bir `array` içinden eleman seçmek için index değerleri liste veya array verilerek indexleme yapılabilir."
   ]
  },
  {
   "cell_type": "code",
   "execution_count": 104,
   "metadata": {},
   "outputs": [
    {
     "data": {
      "text/plain": [
       "array([  6, 102,  69, 120])"
      ]
     },
     "execution_count": 104,
     "metadata": {},
     "output_type": "execute_result"
    }
   ],
   "source": [
    "f = np.arange(0, 500, 3)\n",
    "\n",
    "index_deger = [2, 34, 23, 40]\n",
    "\n",
    "f[index_deger]"
   ]
  },
  {
   "cell_type": "markdown",
   "metadata": {},
   "source": [
    "`ndim` boyut sayısını, `shape` boyut bilgisini, `size` toplam eleman sayısını, `dytpe` veri tipini verir."
   ]
  },
  {
   "cell_type": "code",
   "execution_count": 94,
   "metadata": {},
   "outputs": [
    {
     "name": "stdout",
     "output_type": "stream",
     "text": [
      "1\n",
      "(5,)\n",
      "5\n",
      "int64\n"
     ]
    }
   ],
   "source": [
    "print(a.ndim)\n",
    "print(a.shape)\n",
    "print(a.size)\n",
    "print(a.dtype)"
   ]
  },
  {
   "cell_type": "markdown",
   "metadata": {},
   "source": [
    "## Bazı temel fonksiyonlar"
   ]
  },
  {
   "cell_type": "markdown",
   "metadata": {},
   "source": [
    "**`arange()`**"
   ]
  },
  {
   "cell_type": "markdown",
   "metadata": {},
   "source": [
    "Verilen iki sayı arasındaki değerleri `array` olarak depolar."
   ]
  },
  {
   "cell_type": "code",
   "execution_count": 9,
   "metadata": {},
   "outputs": [
    {
     "name": "stdout",
     "output_type": "stream",
     "text": [
      "[ 2  3  4  5  6  7  8  9 10 11 12 13 14 15 16 17 18 19 20 21 22 23 24 25\n",
      " 26 27 28 29]\n",
      "[ 2  5  8 11 14 17 20 23 26 29]\n"
     ]
    }
   ],
   "source": [
    "print(np.arange(2,30)) \n",
    "print(np.arange(2,30,3)) # Verilen değer kadar atlayarak da depolar."
   ]
  },
  {
   "cell_type": "markdown",
   "metadata": {},
   "source": [
    "---"
   ]
  },
  {
   "cell_type": "markdown",
   "metadata": {},
   "source": [
    "**`zeros()` , `ones()` , `full()` ve `eye()`**"
   ]
  },
  {
   "cell_type": "code",
   "execution_count": 10,
   "metadata": {},
   "outputs": [
    {
     "name": "stdout",
     "output_type": "stream",
     "text": [
      "[0. 0. 0. 0. 0. 0. 0. 0. 0. 0. 0. 0. 0. 0. 0. 0. 0. 0. 0. 0. 0. 0. 0. 0.\n",
      " 0. 0. 0. 0. 0. 0.]\n",
      "[1. 1. 1. 1. 1. 1. 1. 1. 1. 1. 1. 1. 1. 1. 1. 1. 1. 1. 1. 1.]\n"
     ]
    }
   ],
   "source": [
    "print(np.zeros(30)) # Belirtilen miktar kadar 0 oluşturur.\n",
    "print(np.ones(20))  # Belirtilen miktar kadar 1 oluşturur."
   ]
  },
  {
   "cell_type": "markdown",
   "metadata": {},
   "source": [
    "Bu fonksiyonlarda `array` boyutlarını düzenleyebiliriz."
   ]
  },
  {
   "cell_type": "code",
   "execution_count": 13,
   "metadata": {},
   "outputs": [
    {
     "data": {
      "text/plain": [
       "array([[0., 0., 0., 0., 0.],\n",
       "       [0., 0., 0., 0., 0.],\n",
       "       [0., 0., 0., 0., 0.],\n",
       "       [0., 0., 0., 0., 0.],\n",
       "       [0., 0., 0., 0., 0.],\n",
       "       [0., 0., 0., 0., 0.],\n",
       "       [0., 0., 0., 0., 0.],\n",
       "       [0., 0., 0., 0., 0.],\n",
       "       [0., 0., 0., 0., 0.],\n",
       "       [0., 0., 0., 0., 0.]])"
      ]
     },
     "execution_count": 13,
     "metadata": {},
     "output_type": "execute_result"
    }
   ],
   "source": [
    "np.zeros((10,5)) # Çift parantez ile boyut düzenlendi."
   ]
  },
  {
   "cell_type": "code",
   "execution_count": 91,
   "metadata": {},
   "outputs": [
    {
     "data": {
      "text/plain": [
       "array([[8, 8, 8, 8],\n",
       "       [8, 8, 8, 8],\n",
       "       [8, 8, 8, 8]])"
      ]
     },
     "execution_count": 91,
     "metadata": {},
     "output_type": "execute_result"
    }
   ],
   "source": [
    "np.full((3,4),8) # Belirli değerde matris oluşturur."
   ]
  },
  {
   "cell_type": "code",
   "execution_count": 14,
   "metadata": {},
   "outputs": [
    {
     "data": {
      "text/plain": [
       "array([[1., 0., 0., 0., 0.],\n",
       "       [0., 1., 0., 0., 0.],\n",
       "       [0., 0., 1., 0., 0.],\n",
       "       [0., 0., 0., 1., 0.],\n",
       "       [0., 0., 0., 0., 1.]])"
      ]
     },
     "execution_count": 14,
     "metadata": {},
     "output_type": "execute_result"
    }
   ],
   "source": [
    "np.eye(5) # 5x5'lik birim matris oluşturur."
   ]
  },
  {
   "cell_type": "markdown",
   "metadata": {},
   "source": [
    "---"
   ]
  },
  {
   "cell_type": "markdown",
   "metadata": {},
   "source": [
    "**`linspace()`**"
   ]
  },
  {
   "cell_type": "markdown",
   "metadata": {},
   "source": [
    "İlk iki değer arasında olan sayıları üçüncü sayıya eşit parçalar olarak dağıtır."
   ]
  },
  {
   "cell_type": "code",
   "execution_count": 18,
   "metadata": {},
   "outputs": [
    {
     "data": {
      "text/plain": [
       "array([ 2.        ,  7.33333333, 12.66666667, 18.        , 23.33333333,\n",
       "       28.66666667, 34.        , 39.33333333, 44.66666667, 50.        ])"
      ]
     },
     "execution_count": 18,
     "metadata": {},
     "output_type": "execute_result"
    }
   ],
   "source": [
    "np.linspace(2,50,10)"
   ]
  },
  {
   "cell_type": "markdown",
   "metadata": {},
   "source": [
    "---"
   ]
  },
  {
   "cell_type": "markdown",
   "metadata": {},
   "source": [
    "**`random()`**"
   ]
  },
  {
   "cell_type": "markdown",
   "metadata": {},
   "source": [
    "Rastgele sayı veya sayırlar üretir."
   ]
  },
  {
   "cell_type": "code",
   "execution_count": 45,
   "metadata": {},
   "outputs": [
    {
     "name": "stdout",
     "output_type": "stream",
     "text": [
      "49\n",
      "46\n",
      "[94 36 88 80]\n",
      "[0.93703906 0.51898989 0.20022832 0.79946758 0.43781222]\n"
     ]
    }
   ],
   "source": [
    "print(np.random.randint(0,100))   # 0 ile 100 arasında rastgele bir sayı üretir.\n",
    "print(np.random.randint(100))     # Başa sıfır yazılmadığında da üsttekiyle aynı işlevle çalışır.\n",
    "print(np.random.randint(0,100,4)) # Diğer fonksiyonlarda olduğu argümanla da sayı üretir.\n",
    "print(np.random.rand(5))          # 0 ile 1 arasında 5 sayı üretir."
   ]
  },
  {
   "cell_type": "markdown",
   "metadata": {},
   "source": [
    "---"
   ]
  },
  {
   "cell_type": "markdown",
   "metadata": {},
   "source": [
    "**`reshape()`**"
   ]
  },
  {
   "cell_type": "markdown",
   "metadata": {},
   "source": [
    "Veriye matris olarak istenilen şekli verir."
   ]
  },
  {
   "cell_type": "code",
   "execution_count": 34,
   "metadata": {},
   "outputs": [
    {
     "name": "stdout",
     "output_type": "stream",
     "text": [
      "[ 0  1  2  3  4  5  6  7  8  9 10 11 12 13 14 15 16 17 18 19 20 21 22 23\n",
      " 24 25 26 27 28 29]\n",
      "[[ 0  1  2  3  4  5]\n",
      " [ 6  7  8  9 10 11]\n",
      " [12 13 14 15 16 17]\n",
      " [18 19 20 21 22 23]\n",
      " [24 25 26 27 28 29]]\n"
     ]
    }
   ],
   "source": [
    "sekil = np.arange(30)\n",
    "\n",
    "print(sekil)              # Tek boyutlu yani vektörel.\n",
    "print(sekil.reshape(5,6)) # Çok boyutlu yani matris."
   ]
  },
  {
   "cell_type": "markdown",
   "metadata": {},
   "source": [
    "---"
   ]
  },
  {
   "cell_type": "markdown",
   "metadata": {},
   "source": [
    "**`concatenate()`**"
   ]
  },
  {
   "cell_type": "code",
   "execution_count": 95,
   "metadata": {},
   "outputs": [
    {
     "data": {
      "text/plain": [
       "array([1, 2, 3, 4, 5, 6, 7, 8, 9])"
      ]
     },
     "execution_count": 95,
     "metadata": {},
     "output_type": "execute_result"
    }
   ],
   "source": [
    "x = np.array([1,2,3])\n",
    "y = np.array([4,5,6])\n",
    "z = [7,8,9]\n",
    "\n",
    "np.concatenate([x,y,z]) # Değerleri birleştirir."
   ]
  },
  {
   "cell_type": "markdown",
   "metadata": {},
   "source": [
    "---"
   ]
  },
  {
   "cell_type": "markdown",
   "metadata": {},
   "source": [
    "**`sort()`** ve **`argsort()`**"
   ]
  },
  {
   "cell_type": "code",
   "execution_count": 101,
   "metadata": {},
   "outputs": [
    {
     "name": "stdout",
     "output_type": "stream",
     "text": [
      "[34  4  1  9 10]\n",
      "[ 1  4  9 10 34]\n",
      "[2 1 3 4 0]\n"
     ]
    }
   ],
   "source": [
    "v = np.array([34, 4, 1, 9, 10])\n",
    "\n",
    "print(v)\n",
    "\n",
    "print(np.sort(v))    # NumPy'daki metotla sıralar, array orjinalinde değişiklik yapmaz. v.sort() olsaydı kalıcı değişirdi.\n",
    "print(np.argsort(v)) # Sıralama sonrası değerlerin eski index değerlerini, yani nerede olduklarını döndürür."
   ]
  },
  {
   "cell_type": "markdown",
   "metadata": {},
   "source": [
    "## Bazı istatistik temellli fonksiyonlar"
   ]
  },
  {
   "cell_type": "markdown",
   "metadata": {},
   "source": [
    "**`cumsum()` , `min()` , `max()` , `sum()` , `std()` , `mean()` , `median()`**"
   ]
  },
  {
   "cell_type": "code",
   "execution_count": 71,
   "metadata": {},
   "outputs": [
    {
     "name": "stdout",
     "output_type": "stream",
     "text": [
      "[13 14 15 16 17 18 19 20 21 22 23 24 25 26 27 28 29 30 31 32 33 34 35 36\n",
      " 37 38 39 40 41 42 43 44 45 46 47 48 49]\n",
      "[  13   27   42   58   75   93  112  132  153  175  198  222  247  273\n",
      "  300  328  357  387  418  450  483  517  552  588  625  663  702  742\n",
      "  783  825  868  912  957 1003 1050 1098 1147]\n",
      "1147\n",
      "13\n",
      "49\n",
      "10.677078252031311\n",
      "114.0\n",
      "31.0\n",
      "31.0\n"
     ]
    }
   ],
   "source": [
    "stats = np.arange(13,50)\n",
    "\n",
    "print(stats)\n",
    "print(np.cumsum(stats)) # Kümülatif toplam.\n",
    "print(np.sum(stats))    # Tümünün toplamı.\n",
    "print(np.min(stats))    # Mininum değer.\n",
    "print(np.max(stats))    # Maksimum değer.\n",
    "print(np.std(stats))    # Standart sapması.\n",
    "print(np.var(stats))    # Varyansı.\n",
    "print(np.mean(stats))   # Ortalaması.\n",
    "print(np.median(stats)) # Ortanca değeri."
   ]
  },
  {
   "cell_type": "markdown",
   "metadata": {},
   "source": [
    "---"
   ]
  },
  {
   "cell_type": "markdown",
   "metadata": {},
   "source": [
    "**`argmax()`** ve **`argmin()`**"
   ]
  },
  {
   "cell_type": "code",
   "execution_count": 70,
   "metadata": {},
   "outputs": [
    {
     "name": "stdout",
     "output_type": "stream",
     "text": [
      "36\n",
      "0\n"
     ]
    }
   ],
   "source": [
    "print(np.argmax(stats)) # En büyük değerin indexini verir.\n",
    "print(np.argmin(stats)) # En küçük değerin indexini verir."
   ]
  },
  {
   "cell_type": "markdown",
   "metadata": {},
   "source": [
    "## Dilimleme"
   ]
  },
  {
   "cell_type": "markdown",
   "metadata": {},
   "source": [
    "- Array yapılarını dilimleme (slicing) listelerdeki gibidir. \n",
    "- Dilimleme işlemleri `[satır:sütun]` şeklinde çalışır. \n",
    "- İki boyutlu array içinden dilimleme işlemi de `[satır:satır,sütun:sütun]` şeklinde çalışır. \n",
    "- Aslında alt array oluşturur."
   ]
  },
  {
   "cell_type": "code",
   "execution_count": 78,
   "metadata": {},
   "outputs": [
    {
     "data": {
      "text/plain": [
       "array([2, 3, 4, 5, 6])"
      ]
     },
     "execution_count": 78,
     "metadata": {},
     "output_type": "execute_result"
    }
   ],
   "source": [
    "dilim = np.arange(0,100)\n",
    "\n",
    "dilim[2:7]"
   ]
  },
  {
   "cell_type": "code",
   "execution_count": 85,
   "metadata": {},
   "outputs": [
    {
     "name": "stdout",
     "output_type": "stream",
     "text": [
      "[[ 0  1  2  3  4  5]\n",
      " [ 6  7  8  9 10 11]\n",
      " [12 13 14 15 16 17]\n",
      " [18 19 20 21 22 23]\n",
      " [24 25 26 27 28 29]]\n",
      "[18 19 20 21 22 23]\n",
      "[ 3  9 15 21 27]\n",
      "[[1 2 3]\n",
      " [7 8 9]]\n",
      "[[ 0  1  2  3  4  5]\n",
      " [99 99 99  9 10 11]\n",
      " [99 99 99 15 16 17]\n",
      " [99 99 99 21 22 23]\n",
      " [24 25 26 27 28 29]]\n"
     ]
    }
   ],
   "source": [
    "ikinci_dilim = np.arange(0,30).reshape(5,6)\n",
    "\n",
    "print(ikinci_dilim)\n",
    "print(ikinci_dilim[3,:])     # Satırın tamamını alır.\n",
    "print(ikinci_dilim[:,3])     # Sütunun tamamını alır.\n",
    "print(ikinci_dilim[0:2,1:4]) # Matrislerde virgül kesişim kümesi gibi çalışır.\n",
    "\n",
    "ikinci_dilim[1:4,0:3] = 99   # Değerler için atama işlemi de yapılabilir.\n",
    "\n",
    "print(ikinci_dilim)"
   ]
  },
  {
   "cell_type": "markdown",
   "metadata": {},
   "source": [
    "Alt arraylerde işlem yaparken ana arrayi etkilememek için alt array `copy()` ile çoğaltılarak işlem yapılır."
   ]
  },
  {
   "cell_type": "code",
   "execution_count": 103,
   "metadata": {},
   "outputs": [
    {
     "name": "stdout",
     "output_type": "stream",
     "text": [
      "[[ 0  1  2  3  4  5]\n",
      " [99 99 99  9 10 11]\n",
      " [99 99 99 15 16 17]\n",
      " [99 99 99 21 22 23]\n",
      " [24 25 26 27 28 29]]\n",
      "[[ 1  2  3]\n",
      " [99 99  9]]\n",
      "[[   1 8888 8888]\n",
      " [  99   99    9]]\n",
      "[[ 0  1  2  3  4  5]\n",
      " [99 99 99  9 10 11]\n",
      " [99 99 99 15 16 17]\n",
      " [99 99 99 21 22 23]\n",
      " [24 25 26 27 28 29]]\n"
     ]
    }
   ],
   "source": [
    "print(ikinci_dilim)\n",
    "\n",
    "print(ikinci_dilim[0:2,1:4])\n",
    "\n",
    "alt = ikinci_dilim[0:2,1:4].copy()\n",
    "\n",
    "alt[0:1,1:] = 8888 # Alt arrayde değişiklik yapıyoruz.\n",
    "\n",
    "print(alt)\n",
    "\n",
    "print(ikinci_dilim) # Ama yaptığımız değişiklik ana arrayi etkilemiyor."
   ]
  },
  {
   "cell_type": "markdown",
   "metadata": {},
   "source": [
    "Verileri analiz ederken ihtiyaç halindeki sorgulamalarda değerlere `True` veya `False` atanabilir."
   ]
  },
  {
   "cell_type": "code",
   "execution_count": 86,
   "metadata": {},
   "outputs": [
    {
     "data": {
      "text/plain": [
       "array([[False, False, False, False, False, False],\n",
       "       [ True,  True,  True, False, False, False],\n",
       "       [ True,  True,  True, False, False, False],\n",
       "       [ True,  True,  True,  True,  True,  True],\n",
       "       [ True,  True,  True,  True,  True,  True]])"
      ]
     },
     "execution_count": 86,
     "metadata": {},
     "output_type": "execute_result"
    }
   ],
   "source": [
    "ikinci_dilim > 20"
   ]
  },
  {
   "cell_type": "markdown",
   "metadata": {},
   "source": [
    "## Matematiksel operatörler"
   ]
  },
  {
   "cell_type": "markdown",
   "metadata": {},
   "source": [
    "Arrayler üzerinde arrayler arasında da dahil matematik işlemleri yapılabilir."
   ]
  },
  {
   "cell_type": "code",
   "execution_count": 90,
   "metadata": {},
   "outputs": [
    {
     "name": "stdout",
     "output_type": "stream",
     "text": [
      "[1 2 3 4 5]\n",
      "[0 1 2 3 4]\n",
      "[2 3 4 5 6]\n",
      "[ 3  6  9 12 15]\n",
      "[ 1  4  9 16 25]\n",
      "[0.5 1.  1.5 2.  2.5]\n",
      "[ 6 14 24 36 50]\n"
     ]
    }
   ],
   "source": [
    "a = np.array([1,2,3,4,5])\n",
    "b = np.array([6,7,8,9,10])\n",
    "\n",
    "print(a)\n",
    "print(a-1)\n",
    "print(a+1)\n",
    "print(a*3)\n",
    "print(a**2)\n",
    "print(a/2)\n",
    "\n",
    "print(a*b)"
   ]
  },
  {
   "cell_type": "markdown",
   "metadata": {},
   "source": [
    "Operatörlerin fonksiyonları da bulunur."
   ]
  },
  {
   "cell_type": "code",
   "execution_count": 88,
   "metadata": {},
   "outputs": [
    {
     "name": "stdout",
     "output_type": "stream",
     "text": [
      "[2 3 4 5 6]\n",
      "[-2 -1  0  1  2]\n",
      "[0 2 4 6 8]\n",
      "[0.  0.5 1.  1.5 2. ]\n",
      "[ 0  1  4  9 16]\n"
     ]
    }
   ],
   "source": [
    "print(np.add(a,2))      # Toplama\n",
    "print(np.subtract(a,2)) # Çıkarma\n",
    "print(np.multiply(a,2)) # Çarpma\n",
    "print(np.divide(a,2))   # Bölme\n",
    "print(np.power(a,2))    # Üs"
   ]
  }
 ],
 "metadata": {
  "kernelspec": {
   "display_name": "Python 3 (ipykernel)",
   "language": "python",
   "name": "python3"
  },
  "language_info": {
   "codemirror_mode": {
    "name": "ipython",
    "version": 3
   },
   "file_extension": ".py",
   "mimetype": "text/x-python",
   "name": "python",
   "nbconvert_exporter": "python",
   "pygments_lexer": "ipython3",
   "version": "3.8.12"
  }
 },
 "nbformat": 4,
 "nbformat_minor": 4
}
