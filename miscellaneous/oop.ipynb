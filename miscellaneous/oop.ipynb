{
 "cells": [
  {
   "cell_type": "markdown",
   "id": "da20a773-9daf-4f1d-8b2d-80c0ecb09892",
   "metadata": {},
   "source": [
    "# Python OOP"
   ]
  },
  {
   "cell_type": "markdown",
   "id": "fbc4b442-3af0-4628-b3ad-a0aa0c63d992",
   "metadata": {},
   "source": [
    "Notes from [Yalın Kampüs's YouTube Channel](https://www.youtube.com/watch?v=d2v_e2qKO44&list=PLWctyKyPphPiul3WbHkniANLqSheBVP3O)."
   ]
  },
  {
   "cell_type": "code",
   "execution_count": 17,
   "id": "90e00890-6183-4cac-bbcc-664f6f43ceec",
   "metadata": {},
   "outputs": [
    {
     "name": "stdout",
     "output_type": "stream",
     "text": [
      "TK345 kodlu Airbus model 300 yolculu uçağın varış noktası: Oslo\n",
      "TK405 kodlu Airbus model 200 yolculu uçağın varış noktası: Berlin\n"
     ]
    }
   ],
   "source": [
    "class Flight:\n",
    "    '''\n",
    "    Basic descriptions about flights.\n",
    "    '''\n",
    "    \n",
    "    budget = 2\n",
    "    \n",
    "    def __init__(self, code, plane, dest, cap):\n",
    "        self.code = code\n",
    "        self.plane = plane\n",
    "        self.dest = dest\n",
    "        self.cap = cap\n",
    "        \n",
    "    def flydesc(self):\n",
    "        return '{} kodlu {} model {} yolculu uçağın varış noktası: {}'.format(self.code, self.plane, self.cap, self.dest)\n",
    "        \n",
    "        \n",
    "fly_1 = Flight('TK345', 'Airbus', 'Oslo', 300)\n",
    "\n",
    "print(fly_1.flydesc())\n",
    "\n",
    "fly_2 = Flight('TK405', 'Airbus', 'Berlin', 200)\n",
    "\n",
    "print(fly_2.flydesc())"
   ]
  },
  {
   "cell_type": "code",
   "execution_count": 14,
   "id": "a344d7bf-fb9f-4a6a-b3cb-f3eb3f2a4236",
   "metadata": {},
   "outputs": [],
   "source": [
    "class Flight:\n",
    "    '''\n",
    "    Basic descriptions about flights.\n",
    "    '''\n",
    "    \n",
    "    def __init__(self, code, plane, dest, cap, passenger):\n",
    "        self.code = code\n",
    "        self.plane = plane\n",
    "        self.dest = dest\n",
    "        self.cap = cap\n",
    "        self.passenger = passenger\n",
    "        \n",
    "        \n",
    "    def flydesc(self):\n",
    "        return '{} kodlu {} model {} yolculu uçağın varış noktası: {}'.format(self.code, self.plane, self.cap, self.dest)\n",
    "    \n",
    "    \n",
    "    def updatepass(self):\n",
    "        self.cap - self.passenger\n",
    "        return\n",
    "    \n",
    "    def pay(self, ticket=1):\n",
    "        self.passenger = self.cap + ticket\n",
    "        self.updatepass()\n",
    "        return"
   ]
  },
  {
   "cell_type": "code",
   "execution_count": 15,
   "id": "8bd39c64-a2f1-468e-adbc-7d9ee34f232b",
   "metadata": {},
   "outputs": [],
   "source": [
    "fly_3 = Flight('TK405', 'Airbus', 'Berlin', 200, 53)"
   ]
  },
  {
   "cell_type": "code",
   "execution_count": 16,
   "id": "4b62f96a-700c-488b-a0c8-bbf2a8a29dfd",
   "metadata": {},
   "outputs": [],
   "source": [
    "fly_3.updatepass()"
   ]
  },
  {
   "cell_type": "code",
   "execution_count": 17,
   "id": "6b104ec9-91b1-40fb-8386-9b0a73c58443",
   "metadata": {},
   "outputs": [],
   "source": [
    "fly_3.pay(3)"
   ]
  },
  {
   "cell_type": "code",
   "execution_count": 18,
   "id": "b22183bb-03b5-4bf6-8f0f-34dbb7fd6081",
   "metadata": {},
   "outputs": [
    {
     "data": {
      "text/plain": [
       "'TK405 kodlu Airbus model 200 yolculu uçağın varış noktası: Berlin'"
      ]
     },
     "execution_count": 18,
     "metadata": {},
     "output_type": "execute_result"
    }
   ],
   "source": [
    "fly_3.flydesc()"
   ]
  },
  {
   "cell_type": "code",
   "execution_count": 19,
   "id": "83da9740-26e4-44c6-be5a-8699a7825a48",
   "metadata": {},
   "outputs": [],
   "source": [
    "fly_3.pay(3)"
   ]
  },
  {
   "cell_type": "code",
   "execution_count": 20,
   "id": "ef81d2af-c96e-46af-8caf-b7054233fba4",
   "metadata": {},
   "outputs": [],
   "source": [
    "fly_3.updatepass()"
   ]
  },
  {
   "cell_type": "code",
   "execution_count": null,
   "id": "f95f181e-0050-474b-bee5-f97bee997646",
   "metadata": {},
   "outputs": [],
   "source": []
  }
 ],
 "metadata": {
  "kernelspec": {
   "display_name": "Python 3",
   "language": "python",
   "name": "python3"
  },
  "language_info": {
   "codemirror_mode": {
    "name": "ipython",
    "version": 3
   },
   "file_extension": ".py",
   "mimetype": "text/x-python",
   "name": "python",
   "nbconvert_exporter": "python",
   "pygments_lexer": "ipython3",
   "version": "3.8.8"
  }
 },
 "nbformat": 4,
 "nbformat_minor": 5
}
