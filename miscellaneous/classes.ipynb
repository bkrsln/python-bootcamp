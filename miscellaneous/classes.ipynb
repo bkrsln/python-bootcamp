{
 "cells": [
  {
   "cell_type": "markdown",
   "id": "d1e0669b-2988-43d5-8c05-b9191b1f73a3",
   "metadata": {},
   "source": [
    "# Classes"
   ]
  },
  {
   "cell_type": "markdown",
   "id": "7f0b2b5d-8f7f-43e7-b117-db9a46dcc560",
   "metadata": {},
   "source": [
    "Notes from [YazBel Docs](https://python-istihza.yazbel.com/nesne_tabanli_programlama1.html).\n",
    "\n",
    "---"
   ]
  },
  {
   "cell_type": "markdown",
   "id": "efeecb59-b016-4e1f-b6a2-42e80a374a49",
   "metadata": {},
   "source": [
    "- Class bir kalıp aslında. Demir, örgü, kek kalıbı gibi. \n",
    "- Örnek de (intance) daha sonra oluşturulacak objectlerin istenen ortak özelliklerini (attribute) tanımlar.\n",
    "- Class içerisinde, daha sonra oluşturulacak objectler için örnek (instance) özellikler (attribute) veya değişkenler (variable) ile örnek metotlar (method) yer alır. Class dışındaki objectler bu örneklerin kalıplarına göre çıkartılır. \n",
    "- Class dışırısında `object = Class()` kullanımıyla kalıptan bir object oluşturulur. Bu kullanımla istenilen kadar object üretilebilir.\n",
    "- `Class.attribute` kullanımında ise kalıbın tanımlanmış özelliklerine ulaşılır. Ama tek seferlik kullanım için. Bu kullanımla özellikleri değiştirilirse üretilen tüm objectler bundan etkilenir. Eğer sadece istenilen objectin özelliği değiştirilmek isteniyorsa `object.attribute` şeklinde kullanılır.\n",
    "- Örnek nitelikleri (intance attributes) `self` ile temsil edilir. Başka bir kelime de kullanılabilir ama yaygın kullanımı `self` ile olur.\n",
    "- Ve `__init__` ile tanımlanan bir örneğin ilk kelimesi aslında temsil edilecek kelimeyi, yani `self`'i belirliyor."
   ]
  },
  {
   "cell_type": "code",
   "execution_count": 9,
   "id": "b51155d6-1d69-408d-8990-e98a9e202def",
   "metadata": {},
   "outputs": [
    {
     "name": "stdout",
     "output_type": "stream",
     "text": [
      "Name is: Human1Name, and surname is: Human1Surname\n"
     ]
    }
   ],
   "source": [
    "class Human():\n",
    "    \n",
    "    name = \"Temporary Name\" # Class attribute\n",
    "    surname =\"Temporary Surname\" # Class attribute\n",
    "    \n",
    "    \n",
    "    def __init__(self, name, surname):\n",
    "        self.name = name # Intance attribute\n",
    "        self.surname = surname # Intance attribute\n",
    "        return\n",
    "    \n",
    "    def show(self): # Intance method\n",
    "        print('Name is: {}, and surname is: {}'.format(self.name, self.surname))\n",
    "        return\n",
    "    \n",
    "human1 = Human(\"Human1Name\", \"Human1Surname\") # Object\n",
    "\n",
    "human1.show()"
   ]
  },
  {
   "cell_type": "code",
   "execution_count": 10,
   "id": "8311e564-7328-4978-9176-817bc1dc2519",
   "metadata": {},
   "outputs": [
    {
     "data": {
      "text/plain": [
       "'Temporary Name'"
      ]
     },
     "execution_count": 10,
     "metadata": {},
     "output_type": "execute_result"
    }
   ],
   "source": [
    "Human.name # Class attribute"
   ]
  },
  {
   "cell_type": "code",
   "execution_count": 12,
   "id": "d5fd80c4-b2a1-4b3f-8eb2-f447326b4252",
   "metadata": {},
   "outputs": [
    {
     "name": "stdout",
     "output_type": "stream",
     "text": [
      "Name is: Human2Name, and surname is: Human2Surname\n"
     ]
    }
   ],
   "source": [
    "human2 = Human(\"Human2Name\", \"Human2Surname\") # Object\n",
    "\n",
    "human2.show()"
   ]
  },
  {
   "cell_type": "code",
   "execution_count": 13,
   "id": "74e79cc6-2328-4dbe-a0e9-0cefac3d50fb",
   "metadata": {},
   "outputs": [
    {
     "name": "stdout",
     "output_type": "stream",
     "text": [
      "Name is: Human3Name, and surname is: Human3Surname\n"
     ]
    }
   ],
   "source": [
    "human3 = Human(\"Human3Name\", \"Human3Surname\") # Object\n",
    "\n",
    "human3.show()"
   ]
  },
  {
   "cell_type": "markdown",
   "id": "6149629d-172f-42e9-bb39-e8239e897105",
   "metadata": {},
   "source": [
    "---"
   ]
  },
  {
   "cell_type": "code",
   "execution_count": 15,
   "id": "230a06d7-7675-454c-abfd-75fe2ca59928",
   "metadata": {},
   "outputs": [],
   "source": [
    "class Attribute():\n",
    "    \n",
    "    attribute = [\"Class attribute\"]\n",
    "    \n",
    "    def __init__(self):\n",
    "        self.attribute = [\"Intance attribute\"]\n",
    "        return"
   ]
  },
  {
   "cell_type": "code",
   "execution_count": 17,
   "id": "872a4db0-55f6-4d92-b22b-c19771f05cb6",
   "metadata": {},
   "outputs": [],
   "source": [
    "temp = Attribute()"
   ]
  },
  {
   "cell_type": "code",
   "execution_count": 18,
   "id": "583950b8-478e-4983-bf43-18b36cd14ecd",
   "metadata": {},
   "outputs": [
    {
     "data": {
      "text/plain": [
       "['Intance attribute']"
      ]
     },
     "execution_count": 18,
     "metadata": {},
     "output_type": "execute_result"
    }
   ],
   "source": [
    "temp.attribute # For intance attributes."
   ]
  },
  {
   "cell_type": "code",
   "execution_count": 19,
   "id": "b13186a5-2672-4a16-89f1-98ca0fec217c",
   "metadata": {},
   "outputs": [
    {
     "data": {
      "text/plain": [
       "['Class attribute']"
      ]
     },
     "execution_count": 19,
     "metadata": {},
     "output_type": "execute_result"
    }
   ],
   "source": [
    "Attribute.attribute # For class attributes."
   ]
  },
  {
   "cell_type": "markdown",
   "id": "71fdaaf8-5dcb-4169-b3ff-471ed5ff5b50",
   "metadata": {},
   "source": [
    "---"
   ]
  },
  {
   "cell_type": "code",
   "execution_count": 22,
   "id": "bbb56b8e-8379-4f0b-b1fb-f427a33f90dd",
   "metadata": {},
   "outputs": [],
   "source": [
    "class Employee():\n",
    "    \n",
    "    employee = []\n",
    "    \n",
    "    def __init__(self, name):\n",
    "        self.name = name\n",
    "        self.emp_caps = []\n",
    "        self.emp_append()\n",
    "        \n",
    "    def emp_append(self):\n",
    "        self.employee.append(self.name)\n",
    "        print(\"{} is appended employee list\".format(self.name)) \n",
    "\n",
    "    def emp_show(self):\n",
    "        print(\"Employee list:\")\n",
    "        for i in self.employee:\n",
    "            print(i)\n",
    "            \n",
    "    def cap_append(self, cap):\n",
    "        self.emp_caps.append(cap)\n",
    "        \n",
    "    def cap_show(self):\n",
    "        print(\"{}'s capability is: \".format(self.name))\n",
    "        for cap in self.emp_caps:\n",
    "            print(cap)"
   ]
  },
  {
   "cell_type": "code",
   "execution_count": 23,
   "id": "be755daa-3fad-42e5-bc3c-ba524ec2b249",
   "metadata": {},
   "outputs": [
    {
     "name": "stdout",
     "output_type": "stream",
     "text": [
      "E1 is appended employee list\n"
     ]
    }
   ],
   "source": [
    "e1 = Employee(\"E1\")"
   ]
  },
  {
   "cell_type": "code",
   "execution_count": 24,
   "id": "ca1c07bb-d4cb-4e23-9416-f3300df1fd82",
   "metadata": {},
   "outputs": [
    {
     "data": {
      "text/plain": [
       "'E1'"
      ]
     },
     "execution_count": 24,
     "metadata": {},
     "output_type": "execute_result"
    }
   ],
   "source": [
    "e1.name"
   ]
  },
  {
   "cell_type": "code",
   "execution_count": 25,
   "id": "34c78788-62ac-4b32-b8ea-560a675d3d1b",
   "metadata": {},
   "outputs": [
    {
     "name": "stdout",
     "output_type": "stream",
     "text": [
      "E2 is appended employee list\n"
     ]
    }
   ],
   "source": [
    "e2 = Employee(\"E2\")"
   ]
  },
  {
   "cell_type": "code",
   "execution_count": 31,
   "id": "bbed1a2d-3b3f-4a41-81ed-b20330a641a1",
   "metadata": {},
   "outputs": [
    {
     "name": "stdout",
     "output_type": "stream",
     "text": [
      "Employee list:\n",
      "E1\n",
      "E2\n"
     ]
    }
   ],
   "source": [
    "e1.emp_show()"
   ]
  },
  {
   "cell_type": "code",
   "execution_count": 28,
   "id": "52f490d0-8cd5-41d2-bb6b-40b830afc89c",
   "metadata": {},
   "outputs": [],
   "source": [
    "e1.cap_append = [\"Cap1\"]"
   ]
  },
  {
   "cell_type": "code",
   "execution_count": 30,
   "id": "48de764b-cd0e-41fe-96d2-daba935fac61",
   "metadata": {},
   "outputs": [
    {
     "name": "stdout",
     "output_type": "stream",
     "text": [
      "E1' capability is: \n"
     ]
    }
   ],
   "source": [
    "e1.cap_show()"
   ]
  },
  {
   "cell_type": "markdown",
   "id": "720d8791-b989-4c9c-81a2-abdbbce20004",
   "metadata": {},
   "source": [
    "---"
   ]
  },
  {
   "cell_type": "code",
   "execution_count": 122,
   "id": "a05d43ca-5d68-4e3d-af09-ac1e05914ee0",
   "metadata": {},
   "outputs": [],
   "source": [
    "class Counter():\n",
    "    \n",
    "    def __init__(self, sentence):\n",
    "        self.vowel = \"aeiouÖüAEIOUÖÜ\"\n",
    "        self.v_counter = 0\n",
    "        self.c_counter = 0\n",
    "        self.sentence = sentence\n",
    "    \n",
    "    def v_count(self):\n",
    "        \n",
    "        self.sentence = self.sentence.replace(\" \",\"\")\n",
    "        \n",
    "        for i in self.sentence:\n",
    "            if i in self.vowel:\n",
    "                self.v_counter += 1\n",
    "        return self.v_counter\n",
    "    \n",
    "    def c_count(self):\n",
    "        \n",
    "        self.sentence = self.sentence.replace(\" \",\"\")\n",
    "        \n",
    "        for i in self.sentence:\n",
    "            if i not in self.vowel:\n",
    "                self.c_counter += 1\n",
    "        return self.c_counter\n",
    "                \n",
    "    def show(self):\n",
    "        print(\"There are {} vowels and {} consonants.\".format(\n",
    "            self.v_count(), self.c_count()))"
   ]
  },
  {
   "cell_type": "code",
   "execution_count": 124,
   "id": "9e69eb3b-f8be-4f64-a2e9-99c7b3cf9f88",
   "metadata": {},
   "outputs": [],
   "source": [
    "word1 = Counter(\"This is a sentence\")"
   ]
  },
  {
   "cell_type": "code",
   "execution_count": 125,
   "id": "06660b06-e967-483b-91e4-fa288502295c",
   "metadata": {},
   "outputs": [
    {
     "name": "stdout",
     "output_type": "stream",
     "text": [
      "There are 6 vowels and 9 consonants.\n"
     ]
    }
   ],
   "source": [
    "word1.show()"
   ]
  },
  {
   "cell_type": "code",
   "execution_count": null,
   "id": "cea5e4f0-85a0-4992-a254-bb029d13eac7",
   "metadata": {},
   "outputs": [],
   "source": []
  }
 ],
 "metadata": {
  "kernelspec": {
   "display_name": "Python 3",
   "language": "python",
   "name": "python3"
  },
  "language_info": {
   "codemirror_mode": {
    "name": "ipython",
    "version": 3
   },
   "file_extension": ".py",
   "mimetype": "text/x-python",
   "name": "python",
   "nbconvert_exporter": "python",
   "pygments_lexer": "ipython3",
   "version": "3.8.8"
  }
 },
 "nbformat": 4,
 "nbformat_minor": 5
}
