{
 "cells": [
  {
   "cell_type": "code",
   "execution_count": 1,
   "id": "73d48a51-771e-4fe7-a666-af8acd07f6d6",
   "metadata": {},
   "outputs": [],
   "source": [
    "class Node:\n",
    "    def __init__(self, data=None):\n",
    "        self.data = data\n",
    "        self.next = None"
   ]
  },
  {
   "cell_type": "code",
   "execution_count": 2,
   "id": "7f4aea07-1baf-4712-8078-86db85c607d9",
   "metadata": {},
   "outputs": [],
   "source": [
    "class SLL:\n",
    "    def __init__(self):\n",
    "        self.head = None\n",
    "        \n",
    "    def listprint(self):\n",
    "        output = self.head\n",
    "        while output is not None:\n",
    "            print(output.data)\n",
    "            output = output.next"
   ]
  },
  {
   "cell_type": "code",
   "execution_count": 6,
   "id": "a37a25bb-930b-4aa2-ac47-6d7020e1f5c1",
   "metadata": {},
   "outputs": [
    {
     "name": "stdout",
     "output_type": "stream",
     "text": [
      "Mon\n",
      "Tue\n",
      "Wed\n"
     ]
    }
   ],
   "source": [
    "e1 = SLL()\n",
    "\n",
    "e1.head = Node('Mon')\n",
    "e2 = Node('Tue')\n",
    "e3 = Node('Wed')\n",
    "\n",
    "e1.head.next = e2\n",
    "e2.next = e3\n",
    "\n",
    "e1.listprint()"
   ]
  },
  {
   "cell_type": "code",
   "execution_count": null,
   "id": "49a2ddc3-d70c-4ad1-9343-ce2f644bfc42",
   "metadata": {},
   "outputs": [],
   "source": []
  }
 ],
 "metadata": {
  "kernelspec": {
   "display_name": "Python 3",
   "language": "python",
   "name": "python3"
  },
  "language_info": {
   "codemirror_mode": {
    "name": "ipython",
    "version": 3
   },
   "file_extension": ".py",
   "mimetype": "text/x-python",
   "name": "python",
   "nbconvert_exporter": "python",
   "pygments_lexer": "ipython3",
   "version": "3.8.8"
  }
 },
 "nbformat": 4,
 "nbformat_minor": 5
}
